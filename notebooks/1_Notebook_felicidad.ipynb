{
  "cells": [
    {
      "cell_type": "markdown",
      "metadata": {
        "id": "view-in-github",
        "colab_type": "text"
      },
      "source": [
        "<a href=\"https://colab.research.google.com/github/blancavazquez/Taller_CienciaDatos_EducacionContinua/blob/main/notebooks/1_Notebook_felicidad.ipynb\" target=\"_parent\"><img src=\"https://colab.research.google.com/assets/colab-badge.svg\" alt=\"Open In Colab\"/></a>"
      ]
    },
    {
      "cell_type": "markdown",
      "metadata": {
        "application/vnd.databricks.v1+cell": {
          "cellMetadata": {},
          "inputWidgets": {},
          "nuid": "7b81a66f-ad1c-4d0d-8af2-74da39627ada",
          "showTitle": false,
          "tableResultSettingsMap": {},
          "title": ""
        },
        "id": "2S3y9lsUcHmz"
      },
      "source": [
        "## Explorando PySpark\n",
        "\n",
        "El objetivo de esta libreta es realizar consultas sencillas usando PySpark y SQL en un archivo CSV."
      ]
    },
    {
      "cell_type": "code",
      "execution_count": null,
      "metadata": {
        "application/vnd.databricks.v1+cell": {
          "cellMetadata": {
            "byteLimit": 2048000,
            "rowLimit": 10000
          },
          "inputWidgets": {},
          "nuid": "dd6a811d-b70c-4235-b30f-b8f86a13e0bf",
          "showTitle": false,
          "tableResultSettingsMap": {},
          "title": ""
        },
        "id": "J3TvbA5pcHm3",
        "outputId": "8e746b9a-abe8-4e32-b836-372be4a8ff36"
      },
      "outputs": [
        {
          "output_type": "stream",
          "name": "stdout",
          "text": [
            "catalogo.esquema\n/Volumes/catalogo/esquema/volumen\n"
          ]
        }
      ],
      "source": [
        "catalog = \"catalogo\"\n",
        "schema = \"esquema\"\n",
        "volume = \"volumen\"\n",
        "download_url = \"https://github.com/blancavazquez/Analisis-datos-masivos/blob/2025-II/data/world-happiness-report-2019.csv\"\n",
        "file_name = \"world-happiness-report-2019.csv\"\n",
        "table_name = \"felicidad\"\n",
        "path_volume = \"/Volumes/\" + catalog + \"/\" + schema + \"/\" + volume\n",
        "path_table = catalog + \".\" + schema\n",
        "print(path_table) # Show the complete path\n",
        "print(path_volume) # Show the complete path"
      ]
    },
    {
      "cell_type": "code",
      "execution_count": null,
      "metadata": {
        "application/vnd.databricks.v1+cell": {
          "cellMetadata": {
            "byteLimit": 2048000,
            "rowLimit": 10000
          },
          "inputWidgets": {},
          "nuid": "48853524-02bd-4d91-8953-61fad689c830",
          "showTitle": false,
          "tableResultSettingsMap": {},
          "title": ""
        },
        "id": "0_YGmxjPcHm5",
        "outputId": "c8bf79e6-6540-4e18-9b85-2fd21460f302"
      },
      "outputs": [
        {
          "output_type": "execute_result",
          "data": {
            "text/plain": [
              "True"
            ]
          },
          "execution_count": 3,
          "metadata": {}
        }
      ],
      "source": [
        "dbutils.fs.cp(f\"{download_url}\", f\"{path_volume}/{file_name}\")"
      ]
    },
    {
      "cell_type": "code",
      "execution_count": null,
      "metadata": {
        "application/vnd.databricks.v1+cell": {
          "cellMetadata": {
            "byteLimit": 2048000,
            "rowLimit": 10000
          },
          "inputWidgets": {},
          "nuid": "d7308600-66bf-4eb9-b29e-704ee830e294",
          "showTitle": false,
          "tableResultSettingsMap": {
            "0": {
              "dataGridStateBlob": "{\"version\":1,\"tableState\":{\"columnPinning\":{\"left\":[\"#row_number#\"],\"right\":[]},\"columnSizing\":{},\"columnVisibility\":{}},\"settings\":{\"columns\":{}},\"syncTimestamp\":1755234025264}",
              "filterBlob": null,
              "queryPlanFiltersBlob": null,
              "tableResultIndex": 0
            }
          },
          "title": ""
        },
        "id": "YQJ8_VYPcHm5",
        "outputId": "0252dbf6-b6b1-4e30-f012-4a707cbcfb23"
      },
      "outputs": [
        {
          "output_type": "display_data",
          "data": {
            "text/html": [
              "<style scoped>\n",
              "  .table-result-container {\n",
              "    max-height: 300px;\n",
              "    overflow: auto;\n",
              "  }\n",
              "  table, th, td {\n",
              "    border: 1px solid black;\n",
              "    border-collapse: collapse;\n",
              "  }\n",
              "  th, td {\n",
              "    padding: 5px;\n",
              "  }\n",
              "  th {\n",
              "    text-align: left;\n",
              "  }\n",
              "</style><div class='table-result-container'><table class='table-result'><thead style='background-color: white'><tr><th>country_name</th><th>happiness_rank</th><th>happiness_score</th><th>upperwhisker</th><th>lowerwhisker</th><th>economy_GDP_per_capita</th><th>social_support</th><th>healthy_life_expectancy</th><th>freedom_to_make_life_choices</th><th>generosity</th><th>perceptions_corruption</th></tr></thead><tbody><tr><td>Finland</td><td>1</td><td>7.741</td><td>7.815</td><td>7.667</td><td>1.844</td><td>1.572</td><td>0.695</td><td>0.859</td><td>0.142</td><td>0.546</td></tr><tr><td>Denmark</td><td>2</td><td>7.583</td><td>7.665</td><td>7.5</td><td>1.908</td><td>1.52</td><td>0.699</td><td>0.823</td><td>0.204</td><td>0.548</td></tr><tr><td>Iceland</td><td>3</td><td>7.525</td><td>7.618</td><td>7.433</td><td>1.881</td><td>1.617</td><td>0.718</td><td>0.819</td><td>0.258</td><td>0.182</td></tr><tr><td>Sweden</td><td>4</td><td>7.344</td><td>7.422</td><td>7.267</td><td>1.878</td><td>1.501</td><td>0.724</td><td>0.838</td><td>0.221</td><td>0.524</td></tr><tr><td>Israel</td><td>5</td><td>7.341</td><td>7.405</td><td>7.277</td><td>1.803</td><td>1.513</td><td>0.74</td><td>0.641</td><td>0.153</td><td>0.193</td></tr><tr><td>Netherlands</td><td>6</td><td>7.319</td><td>7.383</td><td>7.256</td><td>1.901</td><td>1.462</td><td>0.706</td><td>0.725</td><td>0.247</td><td>0.372</td></tr><tr><td>Norway</td><td>7</td><td>7.302</td><td>7.389</td><td>7.215</td><td>1.952</td><td>1.517</td><td>0.704</td><td>0.835</td><td>0.224</td><td>0.484</td></tr><tr><td>Luxembourg</td><td>8</td><td>7.122</td><td>7.213</td><td>7.031</td><td>2.141</td><td>1.355</td><td>0.708</td><td>0.801</td><td>0.146</td><td>0.432</td></tr><tr><td>Switzerland</td><td>9</td><td>7.06</td><td>7.147</td><td>6.973</td><td>1.97</td><td>1.425</td><td>0.747</td><td>0.759</td><td>0.173</td><td>0.498</td></tr><tr><td>Australia</td><td>10</td><td>7.057</td><td>7.141</td><td>6.973</td><td>1.854</td><td>1.461</td><td>0.692</td><td>0.756</td><td>0.225</td><td>0.323</td></tr><tr><td>New Zealand</td><td>11</td><td>7.029</td><td>7.105</td><td>6.954</td><td>1.81</td><td>1.527</td><td>0.673</td><td>0.746</td><td>0.226</td><td>0.48</td></tr><tr><td>Costa Rica</td><td>12</td><td>6.955</td><td>7.051</td><td>6.86</td><td>1.561</td><td>1.373</td><td>0.661</td><td>0.797</td><td>0.109</td><td>0.123</td></tr><tr><td>Kuwait</td><td>13</td><td>6.951</td><td>7.06</td><td>6.843</td><td>1.845</td><td>1.364</td><td>0.661</td><td>0.827</td><td>0.2</td><td>0.172</td></tr><tr><td>Austria</td><td>14</td><td>6.905</td><td>6.986</td><td>6.824</td><td>1.885</td><td>1.336</td><td>0.696</td><td>0.703</td><td>0.214</td><td>0.305</td></tr><tr><td>Canada</td><td>15</td><td>6.9</td><td>6.984</td><td>6.815</td><td>1.84</td><td>1.459</td><td>0.701</td><td>0.73</td><td>0.23</td><td>0.368</td></tr><tr><td>Belgium</td><td>16</td><td>6.894</td><td>6.961</td><td>6.827</td><td>1.868</td><td>1.44</td><td>0.69</td><td>0.729</td><td>0.17</td><td>0.311</td></tr><tr><td>Ireland</td><td>17</td><td>6.838</td><td>6.927</td><td>6.749</td><td>2.129</td><td>1.39</td><td>0.7</td><td>0.758</td><td>0.205</td><td>0.418</td></tr><tr><td>Czechia</td><td>18</td><td>6.822</td><td>6.903</td><td>6.741</td><td>1.783</td><td>1.511</td><td>0.638</td><td>0.787</td><td>0.177</td><td>0.068</td></tr><tr><td>Lithuania</td><td>19</td><td>6.818</td><td>6.896</td><td>6.739</td><td>1.766</td><td>1.454</td><td>0.598</td><td>0.533</td><td>0.044</td><td>0.116</td></tr><tr><td>United Kingdom</td><td>20</td><td>6.749</td><td>6.833</td><td>6.665</td><td>1.822</td><td>1.326</td><td>0.672</td><td>0.713</td><td>0.267</td><td>0.351</td></tr><tr><td>Slovenia</td><td>21</td><td>6.743</td><td>6.843</td><td>6.643</td><td>1.786</td><td>1.502</td><td>0.695</td><td>0.789</td><td>0.157</td><td>0.131</td></tr><tr><td>United Arab Emirates</td><td>22</td><td>6.733</td><td>6.823</td><td>6.643</td><td>1.983</td><td>1.164</td><td>0.563</td><td>0.815</td><td>0.209</td><td>0.258</td></tr><tr><td>United States</td><td>23</td><td>6.725</td><td>6.818</td><td>6.631</td><td>1.939</td><td>1.392</td><td>0.542</td><td>0.586</td><td>0.223</td><td>0.169</td></tr><tr><td>Germany</td><td>24</td><td>6.719</td><td>6.815</td><td>6.622</td><td>1.871</td><td>1.39</td><td>0.702</td><td>0.7</td><td>0.174</td><td>0.368</td></tr><tr><td>Mexico</td><td>25</td><td>6.678</td><td>6.781</td><td>6.575</td><td>1.521</td><td>1.241</td><td>0.544</td><td>0.722</td><td>0.086</td><td>0.127</td></tr><tr><td>Uruguay</td><td>26</td><td>6.611</td><td>6.696</td><td>6.527</td><td>1.596</td><td>1.431</td><td>0.592</td><td>0.775</td><td>0.106</td><td>0.22</td></tr><tr><td>France</td><td>27</td><td>6.609</td><td>6.685</td><td>6.533</td><td>1.818</td><td>1.348</td><td>0.727</td><td>0.65</td><td>0.112</td><td>0.281</td></tr><tr><td>Saudi Arabia</td><td>28</td><td>6.594</td><td>6.707</td><td>6.48</td><td>1.842</td><td>1.361</td><td>0.511</td><td>0.787</td><td>0.114</td><td>0.188</td></tr><tr><td>Kosovo</td><td>29</td><td>6.561</td><td>6.667</td><td>6.455</td><td>1.364</td><td>1.277</td><td>0.599</td><td>0.739</td><td>0.254</td><td>0.073</td></tr><tr><td>Singapore</td><td>30</td><td>6.523</td><td>6.605</td><td>6.44</td><td>2.118</td><td>1.361</td><td>0.769</td><td>0.743</td><td>0.168</td><td>0.575</td></tr><tr><td>Taiwan Province of China</td><td>31</td><td>6.503</td><td>6.597</td><td>6.41</td><td>1.842</td><td>1.346</td><td>0.65</td><td>0.649</td><td>0.068</td><td>0.202</td></tr><tr><td>Romania</td><td>32</td><td>6.491</td><td>6.592</td><td>6.39</td><td>1.699</td><td>1.236</td><td>0.583</td><td>0.717</td><td>0.041</td><td>0.006</td></tr><tr><td>El Salvador</td><td>33</td><td>6.469</td><td>6.599</td><td>6.338</td><td>1.265</td><td>1.08</td><td>0.549</td><td>0.816</td><td>0.083</td><td>0.253</td></tr><tr><td>Estonia</td><td>34</td><td>6.448</td><td>6.524</td><td>6.371</td><td>1.752</td><td>1.527</td><td>0.657</td><td>0.805</td><td>0.166</td><td>0.401</td></tr><tr><td>Poland</td><td>35</td><td>6.442</td><td>6.513</td><td>6.37</td><td>1.738</td><td>1.417</td><td>0.639</td><td>0.6</td><td>0.081</td><td>0.175</td></tr><tr><td>Spain</td><td>36</td><td>6.421</td><td>6.502</td><td>6.339</td><td>1.766</td><td>1.471</td><td>0.729</td><td>0.619</td><td>0.119</td><td>0.177</td></tr><tr><td>Serbia</td><td>37</td><td>6.411</td><td>6.522</td><td>6.3</td><td>1.538</td><td>1.391</td><td>0.585</td><td>0.663</td><td>0.2</td><td>0.101</td></tr><tr><td>Chile</td><td>38</td><td>6.36</td><td>6.448</td><td>6.273</td><td>1.616</td><td>1.369</td><td>0.673</td><td>0.651</td><td>0.117</td><td>0.075</td></tr><tr><td>Panama</td><td>39</td><td>6.358</td><td>6.489</td><td>6.227</td><td>1.702</td><td>1.392</td><td>0.633</td><td>0.72</td><td>0.063</td><td>0.043</td></tr><tr><td>Malta</td><td>40</td><td>6.346</td><td>6.43</td><td>6.261</td><td>1.827</td><td>1.444</td><td>0.707</td><td>0.727</td><td>0.25</td><td>0.125</td></tr><tr><td>Italy</td><td>41</td><td>6.324</td><td>6.436</td><td>6.211</td><td>1.8</td><td>1.328</td><td>0.72</td><td>0.513</td><td>0.112</td><td>0.074</td></tr><tr><td>Guatemala</td><td>42</td><td>6.287</td><td>6.457</td><td>6.117</td><td>1.26</td><td>1.169</td><td>0.467</td><td>0.735</td><td>0.105</td><td>0.078</td></tr><tr><td>Nicaragua</td><td>43</td><td>6.284</td><td>6.433</td><td>6.135</td><td>1.097</td><td>1.263</td><td>0.542</td><td>0.793</td><td>0.133</td><td>0.251</td></tr><tr><td>Brazil</td><td>44</td><td>6.272</td><td>6.39</td><td>6.154</td><td>1.43</td><td>1.269</td><td>0.548</td><td>0.685</td><td>0.13</td><td>0.142</td></tr><tr><td>Slovakia</td><td>45</td><td>6.257</td><td>6.332</td><td>6.182</td><td>1.706</td><td>1.54</td><td>0.638</td><td>0.566</td><td>0.096</td><td>0.058</td></tr><tr><td>Latvia</td><td>46</td><td>6.234</td><td>6.314</td><td>6.155</td><td>1.7</td><td>1.508</td><td>0.564</td><td>0.666</td><td>0.127</td><td>0.078</td></tr><tr><td>Uzbekistan</td><td>47</td><td>6.195</td><td>6.303</td><td>6.087</td><td>1.212</td><td>1.394</td><td>0.539</td><td>0.835</td><td>0.251</td><td>0.215</td></tr><tr><td>Argentina</td><td>48</td><td>6.188</td><td>6.306</td><td>6.07</td><td>1.562</td><td>1.381</td><td>0.585</td><td>0.681</td><td>0.087</td><td>0.08</td></tr><tr><td>Kazakhstan</td><td>49</td><td>6.188</td><td>6.278</td><td>6.097</td><td>1.622</td><td>1.457</td><td>0.556</td><td>0.733</td><td>0.149</td><td>0.12</td></tr><tr><td>Cyprus</td><td>50</td><td>6.068</td><td>6.182</td><td>5.954</td><td>1.794</td><td>1.217</td><td>0.744</td><td>0.529</td><td>0.124</td><td>0.049</td></tr><tr><td>Japan</td><td>51</td><td>6.06</td><td>6.144</td><td>5.976</td><td>1.786</td><td>1.354</td><td>0.785</td><td>0.632</td><td>0.023</td><td>0.219</td></tr><tr><td>South Korea</td><td>52</td><td>6.058</td><td>6.148</td><td>5.968</td><td>1.815</td><td>1.178</td><td>0.77</td><td>0.555</td><td>0.126</td><td>0.158</td></tr><tr><td>Philippines</td><td>53</td><td>6.048</td><td>6.166</td><td>5.929</td><td>1.232</td><td>1.146</td><td>0.441</td><td>0.826</td><td>0.099</td><td>0.136</td></tr><tr><td>Vietnam</td><td>54</td><td>6.043</td><td>6.138</td><td>5.948</td><td>1.331</td><td>1.267</td><td>0.539</td><td>0.843</td><td>0.094</td><td>0.16</td></tr><tr><td>Portugal</td><td>55</td><td>6.03</td><td>6.134</td><td>5.925</td><td>1.728</td><td>1.368</td><td>0.699</td><td>0.757</td><td>0.047</td><td>0.035</td></tr><tr><td>Hungary</td><td>56</td><td>6.017</td><td>6.124</td><td>5.91</td><td>1.722</td><td>1.528</td><td>0.596</td><td>0.581</td><td>0.123</td><td>0.067</td></tr><tr><td>Paraguay</td><td>57</td><td>5.977</td><td>6.085</td><td>5.868</td><td>1.398</td><td>1.408</td><td>0.549</td><td>0.788</td><td>0.131</td><td>0.065</td></tr><tr><td>Thailand</td><td>58</td><td>5.976</td><td>6.094</td><td>5.858</td><td>1.484</td><td>1.347</td><td>0.62</td><td>0.756</td><td>0.283</td><td>0.024</td></tr><tr><td>Malaysia</td><td>59</td><td>5.975</td><td>6.078</td><td>5.872</td><td>1.646</td><td>1.143</td><td>0.54</td><td>0.829</td><td>0.226</td><td>0.119</td></tr><tr><td>China</td><td>60</td><td>5.973</td><td>6.061</td><td>5.885</td><td>1.497</td><td>1.239</td><td>0.629</td><td>0.704</td><td>0.132</td><td>0.164</td></tr><tr><td>Honduras</td><td>61</td><td>5.968</td><td>6.114</td><td>5.822</td><td>1.091</td><td>1.035</td><td>0.502</td><td>0.72</td><td>0.175</td><td>0.081</td></tr><tr><td>Bahrain</td><td>62</td><td>5.959</td><td>6.153</td><td>5.766</td><td>null</td><td>null</td><td>null</td><td>null</td><td>null</td><td>null</td></tr><tr><td>Croatia</td><td>63</td><td>5.942</td><td>6.047</td><td>5.837</td><td>1.71</td><td>1.445</td><td>0.637</td><td>0.469</td><td>0.064</td><td>0.043</td></tr><tr><td>Greece</td><td>64</td><td>5.934</td><td>6.027</td><td>5.84</td><td>1.684</td><td>1.276</td><td>0.696</td><td>0.337</td><td>0.018</td><td>0.093</td></tr><tr><td>Bosnia and Herzegovina</td><td>65</td><td>5.877</td><td>5.979</td><td>5.775</td><td>1.465</td><td>1.318</td><td>0.587</td><td>0.621</td><td>0.246</td><td>0.0</td></tr><tr><td>Libya</td><td>66</td><td>5.866</td><td>5.987</td><td>5.746</td><td>1.526</td><td>1.1</td><td>0.55</td><td>0.592</td><td>0.111</td><td>0.204</td></tr><tr><td>Jamaica</td><td>67</td><td>5.842</td><td>6.059</td><td>5.624</td><td>1.28</td><td>1.324</td><td>0.567</td><td>0.647</td><td>0.089</td><td>0.028</td></tr><tr><td>Peru</td><td>68</td><td>5.841</td><td>5.946</td><td>5.736</td><td>1.371</td><td>1.18</td><td>0.662</td><td>0.615</td><td>0.078</td><td>0.029</td></tr><tr><td>Dominican Republic</td><td>69</td><td>5.823</td><td>5.967</td><td>5.679</td><td>1.517</td><td>1.272</td><td>0.511</td><td>0.73</td><td>0.086</td><td>0.196</td></tr><tr><td>Mauritius</td><td>70</td><td>5.816</td><td>5.927</td><td>5.706</td><td>1.57</td><td>1.358</td><td>0.49</td><td>0.641</td><td>0.123</td><td>0.118</td></tr><tr><td>Moldova</td><td>71</td><td>5.816</td><td>5.93</td><td>5.702</td><td>1.385</td><td>1.277</td><td>0.542</td><td>0.695</td><td>0.077</td><td>0.044</td></tr><tr><td>Russia</td><td>72</td><td>5.785</td><td>5.859</td><td>5.712</td><td>1.642</td><td>1.351</td><td>0.531</td><td>0.551</td><td>0.138</td><td>0.121</td></tr><tr><td>Bolivia</td><td>73</td><td>5.784</td><td>5.895</td><td>5.674</td><td>1.217</td><td>1.179</td><td>0.488</td><td>0.719</td><td>0.1</td><td>0.061</td></tr><tr><td>Ecuador</td><td>74</td><td>5.725</td><td>5.85</td><td>5.599</td><td>1.315</td><td>1.151</td><td>0.64</td><td>0.606</td><td>0.087</td><td>0.078</td></tr><tr><td>Kyrgyzstan</td><td>75</td><td>5.714</td><td>5.795</td><td>5.632</td><td>1.054</td><td>1.477</td><td>0.588</td><td>0.834</td><td>0.225</td><td>0.03</td></tr><tr><td>Montenegro</td><td>76</td><td>5.707</td><td>5.815</td><td>5.599</td><td>1.571</td><td>1.318</td><td>0.587</td><td>0.632</td><td>0.11</td><td>0.132</td></tr><tr><td>Mongolia</td><td>77</td><td>5.696</td><td>5.783</td><td>5.61</td><td>1.353</td><td>1.511</td><td>0.4</td><td>0.501</td><td>0.237</td><td>0.055</td></tr><tr><td>Colombia</td><td>78</td><td>5.695</td><td>5.806</td><td>5.584</td><td>1.437</td><td>1.241</td><td>0.648</td><td>0.644</td><td>0.072</td><td>0.059</td></tr><tr><td>Venezuela</td><td>79</td><td>5.607</td><td>5.725</td><td>5.489</td><td>0.0</td><td>1.321</td><td>0.491</td><td>0.518</td><td>0.192</td><td>0.086</td></tr><tr><td>Indonesia</td><td>80</td><td>5.568</td><td>5.67</td><td>5.466</td><td>1.361</td><td>1.184</td><td>0.472</td><td>0.779</td><td>0.399</td><td>0.055</td></tr><tr><td>Bulgaria</td><td>81</td><td>5.463</td><td>5.569</td><td>5.357</td><td>1.629</td><td>1.469</td><td>0.567</td><td>0.62</td><td>0.083</td><td>0.006</td></tr><tr><td>Armenia</td><td>82</td><td>5.455</td><td>5.56</td><td>5.35</td><td>1.444</td><td>1.154</td><td>0.603</td><td>0.65</td><td>0.051</td><td>0.173</td></tr><tr><td>South Africa</td><td>83</td><td>5.422</td><td>5.549</td><td>5.295</td><td>1.389</td><td>1.369</td><td>0.322</td><td>0.537</td><td>0.078</td><td>0.034</td></tr><tr><td>North Macedonia</td><td>84</td><td>5.369</td><td>5.468</td><td>5.27</td><td>1.475</td><td>1.277</td><td>0.569</td><td>0.58</td><td>0.194</td><td>0.015</td></tr><tr><td>Algeria</td><td>85</td><td>5.364</td><td>5.476</td><td>5.251</td><td>1.324</td><td>1.191</td><td>0.568</td><td>0.247</td><td>0.091</td><td>0.2</td></tr><tr><td>Hong Kong S.A.R. of China</td><td>86</td><td>5.316</td><td>5.403</td><td>5.229</td><td>1.909</td><td>1.184</td><td>0.857</td><td>0.485</td><td>0.147</td><td>0.402</td></tr><tr><td>Albania</td><td>87</td><td>5.304</td><td>5.44</td><td>5.168</td><td>1.438</td><td>0.924</td><td>0.638</td><td>0.69</td><td>0.138</td><td>0.049</td></tr><tr><td>Tajikistan</td><td>88</td><td>5.281</td><td>5.361</td><td>5.201</td><td>null</td><td>null</td><td>null</td><td>null</td><td>null</td><td>null</td></tr><tr><td>Congo (Brazzaville)</td><td>89</td><td>5.221</td><td>5.396</td><td>5.047</td><td>0.892</td><td>0.622</td><td>0.306</td><td>0.523</td><td>0.124</td><td>0.138</td></tr><tr><td>Mozambique</td><td>90</td><td>5.216</td><td>5.406</td><td>5.027</td><td>0.56</td><td>0.883</td><td>0.156</td><td>0.728</td><td>0.158</td><td>0.196</td></tr><tr><td>Georgia</td><td>91</td><td>5.185</td><td>5.283</td><td>5.087</td><td>1.467</td><td>0.99</td><td>0.524</td><td>0.68</td><td>0.0</td><td>0.174</td></tr><tr><td>Iraq</td><td>92</td><td>5.166</td><td>5.283</td><td>5.049</td><td>1.249</td><td>0.996</td><td>0.498</td><td>0.425</td><td>0.141</td><td>0.048</td></tr><tr><td>Nepal</td><td>93</td><td>5.158</td><td>5.29</td><td>5.027</td><td>0.965</td><td>0.99</td><td>0.443</td><td>0.653</td><td>0.209</td><td>0.115</td></tr><tr><td>Laos</td><td>94</td><td>5.139</td><td>5.261</td><td>5.017</td><td>1.208</td><td>0.846</td><td>0.423</td><td>0.796</td><td>0.17</td><td>0.167</td></tr><tr><td>Gabon</td><td>95</td><td>5.106</td><td>5.243</td><td>4.969</td><td>1.403</td><td>1.038</td><td>0.344</td><td>0.516</td><td>0.045</td><td>0.1</td></tr><tr><td>Ivory Coast</td><td>96</td><td>5.08</td><td>5.224</td><td>4.936</td><td>1.08</td><td>0.578</td><td>0.288</td><td>0.547</td><td>0.12</td><td>0.164</td></tr><tr><td>Guinea</td><td>97</td><td>5.023</td><td>5.166</td><td>4.881</td><td>0.831</td><td>0.622</td><td>0.236</td><td>0.521</td><td>0.21</td><td>0.107</td></tr><tr><td>Turkiye</td><td>98</td><td>4.975</td><td>5.085</td><td>4.866</td><td>1.702</td><td>1.175</td><td>0.631</td><td>0.202</td><td>0.068</td><td>0.115</td></tr><tr><td>Senegal</td><td>99</td><td>4.969</td><td>5.096</td><td>4.841</td><td>0.927</td><td>0.751</td><td>0.392</td><td>0.607</td><td>0.152</td><td>0.069</td></tr><tr><td>Iran</td><td>100</td><td>4.923</td><td>5.024</td><td>4.822</td><td>1.435</td><td>1.136</td><td>0.571</td><td>0.366</td><td>0.235</td><td>0.123</td></tr><tr><td>Azerbaijan</td><td>101</td><td>4.893</td><td>5.018</td><td>4.768</td><td>1.433</td><td>0.876</td><td>0.496</td><td>0.668</td><td>0.112</td><td>0.199</td></tr><tr><td>Nigeria</td><td>102</td><td>4.881</td><td>5.018</td><td>4.744</td><td>1.042</td><td>1.075</td><td>0.256</td><td>0.566</td><td>0.201</td><td>0.019</td></tr><tr><td>State of Palestine</td><td>103</td><td>4.879</td><td>5.006</td><td>4.753</td><td>null</td><td>null</td><td>null</td><td>null</td><td>null</td><td>null</td></tr><tr><td>Cameroon</td><td>104</td><td>4.874</td><td>4.996</td><td>4.753</td><td>0.943</td><td>0.856</td><td>0.288</td><td>0.521</td><td>0.126</td><td>0.06</td></tr><tr><td>Ukraine</td><td>105</td><td>4.873</td><td>4.988</td><td>4.758</td><td>1.35</td><td>1.315</td><td>0.513</td><td>0.631</td><td>0.285</td><td>0.025</td></tr><tr><td>Namibia</td><td>106</td><td>4.832</td><td>4.958</td><td>4.705</td><td>1.266</td><td>1.212</td><td>0.307</td><td>0.47</td><td>0.069</td><td>0.061</td></tr><tr><td>Morocco</td><td>107</td><td>4.795</td><td>4.912</td><td>4.677</td><td>1.213</td><td>0.471</td><td>0.495</td><td>0.631</td><td>0.042</td><td>0.082</td></tr><tr><td>Pakistan</td><td>108</td><td>4.657</td><td>4.779</td><td>4.535</td><td>1.069</td><td>0.6</td><td>0.321</td><td>0.542</td><td>0.144</td><td>0.074</td></tr><tr><td>Niger</td><td>109</td><td>4.556</td><td>4.712</td><td>4.401</td><td>0.573</td><td>0.677</td><td>0.293</td><td>0.615</td><td>0.145</td><td>0.147</td></tr><tr><td>Burkina Faso</td><td>110</td><td>4.548</td><td>4.686</td><td>4.41</td><td>0.756</td><td>0.685</td><td>0.274</td><td>0.483</td><td>0.173</td><td>0.179</td></tr><tr><td>Mauritania</td><td>111</td><td>4.505</td><td>4.673</td><td>4.337</td><td>1.078</td><td>0.705</td><td>0.4</td><td>0.343</td><td>0.133</td><td>0.198</td></tr><tr><td>Gambia</td><td>112</td><td>4.485</td><td>4.625</td><td>4.344</td><td>0.75</td><td>0.684</td><td>0.33</td><td>0.459</td><td>0.324</td><td>0.048</td></tr><tr><td>Chad</td><td>113</td><td>4.471</td><td>4.63</td><td>4.313</td><td>0.603</td><td>0.805</td><td>0.199</td><td>0.411</td><td>0.218</td><td>0.113</td></tr><tr><td>Kenya</td><td>114</td><td>4.47</td><td>4.595</td><td>4.344</td><td>1.037</td><td>0.895</td><td>0.353</td><td>0.519</td><td>0.282</td><td>0.069</td></tr><tr><td>Tunisia</td><td>115</td><td>4.422</td><td>4.505</td><td>4.338</td><td>1.306</td><td>0.955</td><td>0.579</td><td>0.254</td><td>0.024</td><td>0.018</td></tr><tr><td>Benin</td><td>116</td><td>4.377</td><td>4.51</td><td>4.245</td><td>0.914</td><td>0.128</td><td>0.284</td><td>0.567</td><td>0.112</td><td>0.252</td></tr><tr><td>Uganda</td><td>117</td><td>4.372</td><td>4.501</td><td>4.243</td><td>0.772</td><td>1.151</td><td>0.373</td><td>0.587</td><td>0.178</td><td>0.054</td></tr><tr><td>Myanmar</td><td>118</td><td>4.354</td><td>4.501</td><td>4.208</td><td>0.978</td><td>0.988</td><td>0.436</td><td>0.45</td><td>0.401</td><td>0.174</td></tr><tr><td>Cambodia</td><td>119</td><td>4.341</td><td>4.446</td><td>4.236</td><td>1.011</td><td>1.019</td><td>0.442</td><td>0.863</td><td>0.17</td><td>0.071</td></tr><tr><td>Ghana</td><td>120</td><td>4.289</td><td>4.396</td><td>4.182</td><td>1.077</td><td>0.747</td><td>0.36</td><td>0.623</td><td>0.183</td><td>0.028</td></tr><tr><td>Liberia</td><td>121</td><td>4.269</td><td>4.474</td><td>4.063</td><td>0.619</td><td>0.673</td><td>0.301</td><td>0.546</td><td>0.178</td><td>0.075</td></tr><tr><td>Mali</td><td>122</td><td>4.232</td><td>4.347</td><td>4.117</td><td>0.747</td><td>0.688</td><td>0.267</td><td>0.586</td><td>0.12</td><td>0.09</td></tr><tr><td>Madagascar</td><td>123</td><td>4.228</td><td>4.359</td><td>4.097</td><td>0.628</td><td>0.823</td><td>0.333</td><td>0.25</td><td>0.172</td><td>0.123</td></tr><tr><td>Togo</td><td>124</td><td>4.214</td><td>4.33</td><td>4.098</td><td>0.758</td><td>0.586</td><td>0.32</td><td>0.453</td><td>0.127</td><td>0.156</td></tr><tr><td>Jordan</td><td>125</td><td>4.186</td><td>4.306</td><td>4.066</td><td>1.262</td><td>0.983</td><td>0.594</td><td>0.593</td><td>0.059</td><td>0.189</td></tr><tr><td>India</td><td>126</td><td>4.054</td><td>4.123</td><td>3.985</td><td>1.166</td><td>0.653</td><td>0.417</td><td>0.767</td><td>0.174</td><td>0.122</td></tr><tr><td>Egypt</td><td>127</td><td>3.977</td><td>4.066</td><td>3.887</td><td>1.37</td><td>0.996</td><td>0.488</td><td>0.49</td><td>0.025</td><td>0.259</td></tr><tr><td>Sri Lanka</td><td>128</td><td>3.898</td><td>4.018</td><td>3.778</td><td>1.361</td><td>1.179</td><td>0.586</td><td>0.583</td><td>0.144</td><td>0.031</td></tr><tr><td>Bangladesh</td><td>129</td><td>3.886</td><td>3.994</td><td>3.778</td><td>1.122</td><td>0.249</td><td>0.513</td><td>0.775</td><td>0.14</td><td>0.167</td></tr><tr><td>Ethiopia</td><td>130</td><td>3.861</td><td>3.997</td><td>3.725</td><td>0.792</td><td>0.915</td><td>0.42</td><td>0.441</td><td>0.27</td><td>0.101</td></tr><tr><td>Tanzania</td><td>131</td><td>3.781</td><td>3.917</td><td>3.644</td><td>0.82</td><td>0.706</td><td>0.38</td><td>0.709</td><td>0.191</td><td>0.257</td></tr><tr><td>Comoros</td><td>132</td><td>3.566</td><td>3.754</td><td>3.378</td><td>0.896</td><td>0.328</td><td>0.37</td><td>0.172</td><td>0.128</td><td>0.16</td></tr><tr><td>Yemen</td><td>133</td><td>3.561</td><td>3.714</td><td>3.408</td><td>0.671</td><td>1.281</td><td>0.293</td><td>0.362</td><td>0.08</td><td>0.113</td></tr><tr><td>Zambia</td><td>134</td><td>3.502</td><td>3.636</td><td>3.368</td><td>0.899</td><td>0.809</td><td>0.264</td><td>0.727</td><td>0.168</td><td>0.109</td></tr><tr><td>Eswatini</td><td>135</td><td>3.502</td><td>3.673</td><td>3.331</td><td>1.255</td><td>0.925</td><td>0.176</td><td>0.284</td><td>0.059</td><td>0.116</td></tr><tr><td>Malawi</td><td>136</td><td>3.421</td><td>3.561</td><td>3.281</td><td>0.617</td><td>0.41</td><td>0.349</td><td>0.571</td><td>0.135</td><td>0.136</td></tr><tr><td>Botswana</td><td>137</td><td>3.383</td><td>3.558</td><td>3.209</td><td>1.445</td><td>0.969</td><td>0.241</td><td>0.567</td><td>0.014</td><td>0.082</td></tr><tr><td>Zimbabwe</td><td>138</td><td>3.341</td><td>3.457</td><td>3.226</td><td>0.748</td><td>0.85</td><td>0.232</td><td>0.487</td><td>0.096</td><td>0.131</td></tr><tr><td>Congo (Kinshasa)</td><td>139</td><td>3.295</td><td>3.462</td><td>3.128</td><td>0.534</td><td>0.665</td><td>0.262</td><td>0.473</td><td>0.189</td><td>0.072</td></tr><tr><td>Sierra Leone</td><td>140</td><td>3.245</td><td>3.366</td><td>3.124</td><td>0.654</td><td>0.566</td><td>0.253</td><td>0.469</td><td>0.181</td><td>0.053</td></tr><tr><td>Lesotho</td><td>141</td><td>3.186</td><td>3.469</td><td>2.904</td><td>0.771</td><td>0.851</td><td>0.0</td><td>0.523</td><td>0.082</td><td>0.085</td></tr><tr><td>Lebanon</td><td>142</td><td>2.707</td><td>2.797</td><td>2.616</td><td>1.377</td><td>0.577</td><td>0.556</td><td>0.173</td><td>0.068</td><td>0.029</td></tr><tr><td>Afghanistan</td><td>143</td><td>1.721</td><td>1.775</td><td>1.667</td><td>0.628</td><td>0.0</td><td>0.242</td><td>0.0</td><td>0.091</td><td>0.088</td></tr></tbody></table></div>"
            ]
          },
          "metadata": {
            "application/vnd.databricks.v1+output": {
              "addedWidgets": {},
              "aggData": [],
              "aggError": "",
              "aggOverflow": false,
              "aggSchema": [],
              "aggSeriesLimitReached": false,
              "aggType": "",
              "arguments": {},
              "columnCustomDisplayInfos": {},
              "data": [
                [
                  "Finland",
                  1,
                  7.741,
                  7.815,
                  7.667,
                  1.844,
                  1.572,
                  0.695,
                  0.859,
                  0.142,
                  0.546
                ],
                [
                  "Denmark",
                  2,
                  7.583,
                  7.665,
                  7.5,
                  1.908,
                  1.52,
                  0.699,
                  0.823,
                  0.204,
                  0.548
                ],
                [
                  "Iceland",
                  3,
                  7.525,
                  7.618,
                  7.433,
                  1.881,
                  1.617,
                  0.718,
                  0.819,
                  0.258,
                  0.182
                ],
                [
                  "Sweden",
                  4,
                  7.344,
                  7.422,
                  7.267,
                  1.878,
                  1.501,
                  0.724,
                  0.838,
                  0.221,
                  0.524
                ],
                [
                  "Israel",
                  5,
                  7.341,
                  7.405,
                  7.277,
                  1.803,
                  1.513,
                  0.74,
                  0.641,
                  0.153,
                  0.193
                ],
                [
                  "Netherlands",
                  6,
                  7.319,
                  7.383,
                  7.256,
                  1.901,
                  1.462,
                  0.706,
                  0.725,
                  0.247,
                  0.372
                ],
                [
                  "Norway",
                  7,
                  7.302,
                  7.389,
                  7.215,
                  1.952,
                  1.517,
                  0.704,
                  0.835,
                  0.224,
                  0.484
                ],
                [
                  "Luxembourg",
                  8,
                  7.122,
                  7.213,
                  7.031,
                  2.141,
                  1.355,
                  0.708,
                  0.801,
                  0.146,
                  0.432
                ],
                [
                  "Switzerland",
                  9,
                  7.06,
                  7.147,
                  6.973,
                  1.97,
                  1.425,
                  0.747,
                  0.759,
                  0.173,
                  0.498
                ],
                [
                  "Australia",
                  10,
                  7.057,
                  7.141,
                  6.973,
                  1.854,
                  1.461,
                  0.692,
                  0.756,
                  0.225,
                  0.323
                ],
                [
                  "New Zealand",
                  11,
                  7.029,
                  7.105,
                  6.954,
                  1.81,
                  1.527,
                  0.673,
                  0.746,
                  0.226,
                  0.48
                ],
                [
                  "Costa Rica",
                  12,
                  6.955,
                  7.051,
                  6.86,
                  1.561,
                  1.373,
                  0.661,
                  0.797,
                  0.109,
                  0.123
                ],
                [
                  "Kuwait",
                  13,
                  6.951,
                  7.06,
                  6.843,
                  1.845,
                  1.364,
                  0.661,
                  0.827,
                  0.2,
                  0.172
                ],
                [
                  "Austria",
                  14,
                  6.905,
                  6.986,
                  6.824,
                  1.885,
                  1.336,
                  0.696,
                  0.703,
                  0.214,
                  0.305
                ],
                [
                  "Canada",
                  15,
                  6.9,
                  6.984,
                  6.815,
                  1.84,
                  1.459,
                  0.701,
                  0.73,
                  0.23,
                  0.368
                ],
                [
                  "Belgium",
                  16,
                  6.894,
                  6.961,
                  6.827,
                  1.868,
                  1.44,
                  0.69,
                  0.729,
                  0.17,
                  0.311
                ],
                [
                  "Ireland",
                  17,
                  6.838,
                  6.927,
                  6.749,
                  2.129,
                  1.39,
                  0.7,
                  0.758,
                  0.205,
                  0.418
                ],
                [
                  "Czechia",
                  18,
                  6.822,
                  6.903,
                  6.741,
                  1.783,
                  1.511,
                  0.638,
                  0.787,
                  0.177,
                  0.068
                ],
                [
                  "Lithuania",
                  19,
                  6.818,
                  6.896,
                  6.739,
                  1.766,
                  1.454,
                  0.598,
                  0.533,
                  0.044,
                  0.116
                ],
                [
                  "United Kingdom",
                  20,
                  6.749,
                  6.833,
                  6.665,
                  1.822,
                  1.326,
                  0.672,
                  0.713,
                  0.267,
                  0.351
                ],
                [
                  "Slovenia",
                  21,
                  6.743,
                  6.843,
                  6.643,
                  1.786,
                  1.502,
                  0.695,
                  0.789,
                  0.157,
                  0.131
                ],
                [
                  "United Arab Emirates",
                  22,
                  6.733,
                  6.823,
                  6.643,
                  1.983,
                  1.164,
                  0.563,
                  0.815,
                  0.209,
                  0.258
                ],
                [
                  "United States",
                  23,
                  6.725,
                  6.818,
                  6.631,
                  1.939,
                  1.392,
                  0.542,
                  0.586,
                  0.223,
                  0.169
                ],
                [
                  "Germany",
                  24,
                  6.719,
                  6.815,
                  6.622,
                  1.871,
                  1.39,
                  0.702,
                  0.7,
                  0.174,
                  0.368
                ],
                [
                  "Mexico",
                  25,
                  6.678,
                  6.781,
                  6.575,
                  1.521,
                  1.241,
                  0.544,
                  0.722,
                  0.086,
                  0.127
                ],
                [
                  "Uruguay",
                  26,
                  6.611,
                  6.696,
                  6.527,
                  1.596,
                  1.431,
                  0.592,
                  0.775,
                  0.106,
                  0.22
                ],
                [
                  "France",
                  27,
                  6.609,
                  6.685,
                  6.533,
                  1.818,
                  1.348,
                  0.727,
                  0.65,
                  0.112,
                  0.281
                ],
                [
                  "Saudi Arabia",
                  28,
                  6.594,
                  6.707,
                  6.48,
                  1.842,
                  1.361,
                  0.511,
                  0.787,
                  0.114,
                  0.188
                ],
                [
                  "Kosovo",
                  29,
                  6.561,
                  6.667,
                  6.455,
                  1.364,
                  1.277,
                  0.599,
                  0.739,
                  0.254,
                  0.073
                ],
                [
                  "Singapore",
                  30,
                  6.523,
                  6.605,
                  6.44,
                  2.118,
                  1.361,
                  0.769,
                  0.743,
                  0.168,
                  0.575
                ],
                [
                  "Taiwan Province of China",
                  31,
                  6.503,
                  6.597,
                  6.41,
                  1.842,
                  1.346,
                  0.65,
                  0.649,
                  0.068,
                  0.202
                ],
                [
                  "Romania",
                  32,
                  6.491,
                  6.592,
                  6.39,
                  1.699,
                  1.236,
                  0.583,
                  0.717,
                  0.041,
                  0.006
                ],
                [
                  "El Salvador",
                  33,
                  6.469,
                  6.599,
                  6.338,
                  1.265,
                  1.08,
                  0.549,
                  0.816,
                  0.083,
                  0.253
                ],
                [
                  "Estonia",
                  34,
                  6.448,
                  6.524,
                  6.371,
                  1.752,
                  1.527,
                  0.657,
                  0.805,
                  0.166,
                  0.401
                ],
                [
                  "Poland",
                  35,
                  6.442,
                  6.513,
                  6.37,
                  1.738,
                  1.417,
                  0.639,
                  0.6,
                  0.081,
                  0.175
                ],
                [
                  "Spain",
                  36,
                  6.421,
                  6.502,
                  6.339,
                  1.766,
                  1.471,
                  0.729,
                  0.619,
                  0.119,
                  0.177
                ],
                [
                  "Serbia",
                  37,
                  6.411,
                  6.522,
                  6.3,
                  1.538,
                  1.391,
                  0.585,
                  0.663,
                  0.2,
                  0.101
                ],
                [
                  "Chile",
                  38,
                  6.36,
                  6.448,
                  6.273,
                  1.616,
                  1.369,
                  0.673,
                  0.651,
                  0.117,
                  0.075
                ],
                [
                  "Panama",
                  39,
                  6.358,
                  6.489,
                  6.227,
                  1.702,
                  1.392,
                  0.633,
                  0.72,
                  0.063,
                  0.043
                ],
                [
                  "Malta",
                  40,
                  6.346,
                  6.43,
                  6.261,
                  1.827,
                  1.444,
                  0.707,
                  0.727,
                  0.25,
                  0.125
                ],
                [
                  "Italy",
                  41,
                  6.324,
                  6.436,
                  6.211,
                  1.8,
                  1.328,
                  0.72,
                  0.513,
                  0.112,
                  0.074
                ],
                [
                  "Guatemala",
                  42,
                  6.287,
                  6.457,
                  6.117,
                  1.26,
                  1.169,
                  0.467,
                  0.735,
                  0.105,
                  0.078
                ],
                [
                  "Nicaragua",
                  43,
                  6.284,
                  6.433,
                  6.135,
                  1.097,
                  1.263,
                  0.542,
                  0.793,
                  0.133,
                  0.251
                ],
                [
                  "Brazil",
                  44,
                  6.272,
                  6.39,
                  6.154,
                  1.43,
                  1.269,
                  0.548,
                  0.685,
                  0.13,
                  0.142
                ],
                [
                  "Slovakia",
                  45,
                  6.257,
                  6.332,
                  6.182,
                  1.706,
                  1.54,
                  0.638,
                  0.566,
                  0.096,
                  0.058
                ],
                [
                  "Latvia",
                  46,
                  6.234,
                  6.314,
                  6.155,
                  1.7,
                  1.508,
                  0.564,
                  0.666,
                  0.127,
                  0.078
                ],
                [
                  "Uzbekistan",
                  47,
                  6.195,
                  6.303,
                  6.087,
                  1.212,
                  1.394,
                  0.539,
                  0.835,
                  0.251,
                  0.215
                ],
                [
                  "Argentina",
                  48,
                  6.188,
                  6.306,
                  6.07,
                  1.562,
                  1.381,
                  0.585,
                  0.681,
                  0.087,
                  0.08
                ],
                [
                  "Kazakhstan",
                  49,
                  6.188,
                  6.278,
                  6.097,
                  1.622,
                  1.457,
                  0.556,
                  0.733,
                  0.149,
                  0.12
                ],
                [
                  "Cyprus",
                  50,
                  6.068,
                  6.182,
                  5.954,
                  1.794,
                  1.217,
                  0.744,
                  0.529,
                  0.124,
                  0.049
                ],
                [
                  "Japan",
                  51,
                  6.06,
                  6.144,
                  5.976,
                  1.786,
                  1.354,
                  0.785,
                  0.632,
                  0.023,
                  0.219
                ],
                [
                  "South Korea",
                  52,
                  6.058,
                  6.148,
                  5.968,
                  1.815,
                  1.178,
                  0.77,
                  0.555,
                  0.126,
                  0.158
                ],
                [
                  "Philippines",
                  53,
                  6.048,
                  6.166,
                  5.929,
                  1.232,
                  1.146,
                  0.441,
                  0.826,
                  0.099,
                  0.136
                ],
                [
                  "Vietnam",
                  54,
                  6.043,
                  6.138,
                  5.948,
                  1.331,
                  1.267,
                  0.539,
                  0.843,
                  0.094,
                  0.16
                ],
                [
                  "Portugal",
                  55,
                  6.03,
                  6.134,
                  5.925,
                  1.728,
                  1.368,
                  0.699,
                  0.757,
                  0.047,
                  0.035
                ],
                [
                  "Hungary",
                  56,
                  6.017,
                  6.124,
                  5.91,
                  1.722,
                  1.528,
                  0.596,
                  0.581,
                  0.123,
                  0.067
                ],
                [
                  "Paraguay",
                  57,
                  5.977,
                  6.085,
                  5.868,
                  1.398,
                  1.408,
                  0.549,
                  0.788,
                  0.131,
                  0.065
                ],
                [
                  "Thailand",
                  58,
                  5.976,
                  6.094,
                  5.858,
                  1.484,
                  1.347,
                  0.62,
                  0.756,
                  0.283,
                  0.024
                ],
                [
                  "Malaysia",
                  59,
                  5.975,
                  6.078,
                  5.872,
                  1.646,
                  1.143,
                  0.54,
                  0.829,
                  0.226,
                  0.119
                ],
                [
                  "China",
                  60,
                  5.973,
                  6.061,
                  5.885,
                  1.497,
                  1.239,
                  0.629,
                  0.704,
                  0.132,
                  0.164
                ],
                [
                  "Honduras",
                  61,
                  5.968,
                  6.114,
                  5.822,
                  1.091,
                  1.035,
                  0.502,
                  0.72,
                  0.175,
                  0.081
                ],
                [
                  "Bahrain",
                  62,
                  5.959,
                  6.153,
                  5.766,
                  null,
                  null,
                  null,
                  null,
                  null,
                  null
                ],
                [
                  "Croatia",
                  63,
                  5.942,
                  6.047,
                  5.837,
                  1.71,
                  1.445,
                  0.637,
                  0.469,
                  0.064,
                  0.043
                ],
                [
                  "Greece",
                  64,
                  5.934,
                  6.027,
                  5.84,
                  1.684,
                  1.276,
                  0.696,
                  0.337,
                  0.018,
                  0.093
                ],
                [
                  "Bosnia and Herzegovina",
                  65,
                  5.877,
                  5.979,
                  5.775,
                  1.465,
                  1.318,
                  0.587,
                  0.621,
                  0.246,
                  0
                ],
                [
                  "Libya",
                  66,
                  5.866,
                  5.987,
                  5.746,
                  1.526,
                  1.1,
                  0.55,
                  0.592,
                  0.111,
                  0.204
                ],
                [
                  "Jamaica",
                  67,
                  5.842,
                  6.059,
                  5.624,
                  1.28,
                  1.324,
                  0.567,
                  0.647,
                  0.089,
                  0.028
                ],
                [
                  "Peru",
                  68,
                  5.841,
                  5.946,
                  5.736,
                  1.371,
                  1.18,
                  0.662,
                  0.615,
                  0.078,
                  0.029
                ],
                [
                  "Dominican Republic",
                  69,
                  5.823,
                  5.967,
                  5.679,
                  1.517,
                  1.272,
                  0.511,
                  0.73,
                  0.086,
                  0.196
                ],
                [
                  "Mauritius",
                  70,
                  5.816,
                  5.927,
                  5.706,
                  1.57,
                  1.358,
                  0.49,
                  0.641,
                  0.123,
                  0.118
                ],
                [
                  "Moldova",
                  71,
                  5.816,
                  5.93,
                  5.702,
                  1.385,
                  1.277,
                  0.542,
                  0.695,
                  0.077,
                  0.044
                ],
                [
                  "Russia",
                  72,
                  5.785,
                  5.859,
                  5.712,
                  1.642,
                  1.351,
                  0.531,
                  0.551,
                  0.138,
                  0.121
                ],
                [
                  "Bolivia",
                  73,
                  5.784,
                  5.895,
                  5.674,
                  1.217,
                  1.179,
                  0.488,
                  0.719,
                  0.1,
                  0.061
                ],
                [
                  "Ecuador",
                  74,
                  5.725,
                  5.85,
                  5.599,
                  1.315,
                  1.151,
                  0.64,
                  0.606,
                  0.087,
                  0.078
                ],
                [
                  "Kyrgyzstan",
                  75,
                  5.714,
                  5.795,
                  5.632,
                  1.054,
                  1.477,
                  0.588,
                  0.834,
                  0.225,
                  0.03
                ],
                [
                  "Montenegro",
                  76,
                  5.707,
                  5.815,
                  5.599,
                  1.571,
                  1.318,
                  0.587,
                  0.632,
                  0.11,
                  0.132
                ],
                [
                  "Mongolia",
                  77,
                  5.696,
                  5.783,
                  5.61,
                  1.353,
                  1.511,
                  0.4,
                  0.501,
                  0.237,
                  0.055
                ],
                [
                  "Colombia",
                  78,
                  5.695,
                  5.806,
                  5.584,
                  1.437,
                  1.241,
                  0.648,
                  0.644,
                  0.072,
                  0.059
                ],
                [
                  "Venezuela",
                  79,
                  5.607,
                  5.725,
                  5.489,
                  0,
                  1.321,
                  0.491,
                  0.518,
                  0.192,
                  0.086
                ],
                [
                  "Indonesia",
                  80,
                  5.568,
                  5.67,
                  5.466,
                  1.361,
                  1.184,
                  0.472,
                  0.779,
                  0.399,
                  0.055
                ],
                [
                  "Bulgaria",
                  81,
                  5.463,
                  5.569,
                  5.357,
                  1.629,
                  1.469,
                  0.567,
                  0.62,
                  0.083,
                  0.006
                ],
                [
                  "Armenia",
                  82,
                  5.455,
                  5.56,
                  5.35,
                  1.444,
                  1.154,
                  0.603,
                  0.65,
                  0.051,
                  0.173
                ],
                [
                  "South Africa",
                  83,
                  5.422,
                  5.549,
                  5.295,
                  1.389,
                  1.369,
                  0.322,
                  0.537,
                  0.078,
                  0.034
                ],
                [
                  "North Macedonia",
                  84,
                  5.369,
                  5.468,
                  5.27,
                  1.475,
                  1.277,
                  0.569,
                  0.58,
                  0.194,
                  0.015
                ],
                [
                  "Algeria",
                  85,
                  5.364,
                  5.476,
                  5.251,
                  1.324,
                  1.191,
                  0.568,
                  0.247,
                  0.091,
                  0.2
                ],
                [
                  "Hong Kong S.A.R. of China",
                  86,
                  5.316,
                  5.403,
                  5.229,
                  1.909,
                  1.184,
                  0.857,
                  0.485,
                  0.147,
                  0.402
                ],
                [
                  "Albania",
                  87,
                  5.304,
                  5.44,
                  5.168,
                  1.438,
                  0.924,
                  0.638,
                  0.69,
                  0.138,
                  0.049
                ],
                [
                  "Tajikistan",
                  88,
                  5.281,
                  5.361,
                  5.201,
                  null,
                  null,
                  null,
                  null,
                  null,
                  null
                ],
                [
                  "Congo (Brazzaville)",
                  89,
                  5.221,
                  5.396,
                  5.047,
                  0.892,
                  0.622,
                  0.306,
                  0.523,
                  0.124,
                  0.138
                ],
                [
                  "Mozambique",
                  90,
                  5.216,
                  5.406,
                  5.027,
                  0.56,
                  0.883,
                  0.156,
                  0.728,
                  0.158,
                  0.196
                ],
                [
                  "Georgia",
                  91,
                  5.185,
                  5.283,
                  5.087,
                  1.467,
                  0.99,
                  0.524,
                  0.68,
                  0,
                  0.174
                ],
                [
                  "Iraq",
                  92,
                  5.166,
                  5.283,
                  5.049,
                  1.249,
                  0.996,
                  0.498,
                  0.425,
                  0.141,
                  0.048
                ],
                [
                  "Nepal",
                  93,
                  5.158,
                  5.29,
                  5.027,
                  0.965,
                  0.99,
                  0.443,
                  0.653,
                  0.209,
                  0.115
                ],
                [
                  "Laos",
                  94,
                  5.139,
                  5.261,
                  5.017,
                  1.208,
                  0.846,
                  0.423,
                  0.796,
                  0.17,
                  0.167
                ],
                [
                  "Gabon",
                  95,
                  5.106,
                  5.243,
                  4.969,
                  1.403,
                  1.038,
                  0.344,
                  0.516,
                  0.045,
                  0.1
                ],
                [
                  "Ivory Coast",
                  96,
                  5.08,
                  5.224,
                  4.936,
                  1.08,
                  0.578,
                  0.288,
                  0.547,
                  0.12,
                  0.164
                ],
                [
                  "Guinea",
                  97,
                  5.023,
                  5.166,
                  4.881,
                  0.831,
                  0.622,
                  0.236,
                  0.521,
                  0.21,
                  0.107
                ],
                [
                  "Turkiye",
                  98,
                  4.975,
                  5.085,
                  4.866,
                  1.702,
                  1.175,
                  0.631,
                  0.202,
                  0.068,
                  0.115
                ],
                [
                  "Senegal",
                  99,
                  4.969,
                  5.096,
                  4.841,
                  0.927,
                  0.751,
                  0.392,
                  0.607,
                  0.152,
                  0.069
                ],
                [
                  "Iran",
                  100,
                  4.923,
                  5.024,
                  4.822,
                  1.435,
                  1.136,
                  0.571,
                  0.366,
                  0.235,
                  0.123
                ],
                [
                  "Azerbaijan",
                  101,
                  4.893,
                  5.018,
                  4.768,
                  1.433,
                  0.876,
                  0.496,
                  0.668,
                  0.112,
                  0.199
                ],
                [
                  "Nigeria",
                  102,
                  4.881,
                  5.018,
                  4.744,
                  1.042,
                  1.075,
                  0.256,
                  0.566,
                  0.201,
                  0.019
                ],
                [
                  "State of Palestine",
                  103,
                  4.879,
                  5.006,
                  4.753,
                  null,
                  null,
                  null,
                  null,
                  null,
                  null
                ],
                [
                  "Cameroon",
                  104,
                  4.874,
                  4.996,
                  4.753,
                  0.943,
                  0.856,
                  0.288,
                  0.521,
                  0.126,
                  0.06
                ],
                [
                  "Ukraine",
                  105,
                  4.873,
                  4.988,
                  4.758,
                  1.35,
                  1.315,
                  0.513,
                  0.631,
                  0.285,
                  0.025
                ],
                [
                  "Namibia",
                  106,
                  4.832,
                  4.958,
                  4.705,
                  1.266,
                  1.212,
                  0.307,
                  0.47,
                  0.069,
                  0.061
                ],
                [
                  "Morocco",
                  107,
                  4.795,
                  4.912,
                  4.677,
                  1.213,
                  0.471,
                  0.495,
                  0.631,
                  0.042,
                  0.082
                ],
                [
                  "Pakistan",
                  108,
                  4.657,
                  4.779,
                  4.535,
                  1.069,
                  0.6,
                  0.321,
                  0.542,
                  0.144,
                  0.074
                ],
                [
                  "Niger",
                  109,
                  4.556,
                  4.712,
                  4.401,
                  0.573,
                  0.677,
                  0.293,
                  0.615,
                  0.145,
                  0.147
                ],
                [
                  "Burkina Faso",
                  110,
                  4.548,
                  4.686,
                  4.41,
                  0.756,
                  0.685,
                  0.274,
                  0.483,
                  0.173,
                  0.179
                ],
                [
                  "Mauritania",
                  111,
                  4.505,
                  4.673,
                  4.337,
                  1.078,
                  0.705,
                  0.4,
                  0.343,
                  0.133,
                  0.198
                ],
                [
                  "Gambia",
                  112,
                  4.485,
                  4.625,
                  4.344,
                  0.75,
                  0.684,
                  0.33,
                  0.459,
                  0.324,
                  0.048
                ],
                [
                  "Chad",
                  113,
                  4.471,
                  4.63,
                  4.313,
                  0.603,
                  0.805,
                  0.199,
                  0.411,
                  0.218,
                  0.113
                ],
                [
                  "Kenya",
                  114,
                  4.47,
                  4.595,
                  4.344,
                  1.037,
                  0.895,
                  0.353,
                  0.519,
                  0.282,
                  0.069
                ],
                [
                  "Tunisia",
                  115,
                  4.422,
                  4.505,
                  4.338,
                  1.306,
                  0.955,
                  0.579,
                  0.254,
                  0.024,
                  0.018
                ],
                [
                  "Benin",
                  116,
                  4.377,
                  4.51,
                  4.245,
                  0.914,
                  0.128,
                  0.284,
                  0.567,
                  0.112,
                  0.252
                ],
                [
                  "Uganda",
                  117,
                  4.372,
                  4.501,
                  4.243,
                  0.772,
                  1.151,
                  0.373,
                  0.587,
                  0.178,
                  0.054
                ],
                [
                  "Myanmar",
                  118,
                  4.354,
                  4.501,
                  4.208,
                  0.978,
                  0.988,
                  0.436,
                  0.45,
                  0.401,
                  0.174
                ],
                [
                  "Cambodia",
                  119,
                  4.341,
                  4.446,
                  4.236,
                  1.011,
                  1.019,
                  0.442,
                  0.863,
                  0.17,
                  0.071
                ],
                [
                  "Ghana",
                  120,
                  4.289,
                  4.396,
                  4.182,
                  1.077,
                  0.747,
                  0.36,
                  0.623,
                  0.183,
                  0.028
                ],
                [
                  "Liberia",
                  121,
                  4.269,
                  4.474,
                  4.063,
                  0.619,
                  0.673,
                  0.301,
                  0.546,
                  0.178,
                  0.075
                ],
                [
                  "Mali",
                  122,
                  4.232,
                  4.347,
                  4.117,
                  0.747,
                  0.688,
                  0.267,
                  0.586,
                  0.12,
                  0.09
                ],
                [
                  "Madagascar",
                  123,
                  4.228,
                  4.359,
                  4.097,
                  0.628,
                  0.823,
                  0.333,
                  0.25,
                  0.172,
                  0.123
                ],
                [
                  "Togo",
                  124,
                  4.214,
                  4.33,
                  4.098,
                  0.758,
                  0.586,
                  0.32,
                  0.453,
                  0.127,
                  0.156
                ],
                [
                  "Jordan",
                  125,
                  4.186,
                  4.306,
                  4.066,
                  1.262,
                  0.983,
                  0.594,
                  0.593,
                  0.059,
                  0.189
                ],
                [
                  "India",
                  126,
                  4.054,
                  4.123,
                  3.985,
                  1.166,
                  0.653,
                  0.417,
                  0.767,
                  0.174,
                  0.122
                ],
                [
                  "Egypt",
                  127,
                  3.977,
                  4.066,
                  3.887,
                  1.37,
                  0.996,
                  0.488,
                  0.49,
                  0.025,
                  0.259
                ],
                [
                  "Sri Lanka",
                  128,
                  3.898,
                  4.018,
                  3.778,
                  1.361,
                  1.179,
                  0.586,
                  0.583,
                  0.144,
                  0.031
                ],
                [
                  "Bangladesh",
                  129,
                  3.886,
                  3.994,
                  3.778,
                  1.122,
                  0.249,
                  0.513,
                  0.775,
                  0.14,
                  0.167
                ],
                [
                  "Ethiopia",
                  130,
                  3.861,
                  3.997,
                  3.725,
                  0.792,
                  0.915,
                  0.42,
                  0.441,
                  0.27,
                  0.101
                ],
                [
                  "Tanzania",
                  131,
                  3.781,
                  3.917,
                  3.644,
                  0.82,
                  0.706,
                  0.38,
                  0.709,
                  0.191,
                  0.257
                ],
                [
                  "Comoros",
                  132,
                  3.566,
                  3.754,
                  3.378,
                  0.896,
                  0.328,
                  0.37,
                  0.172,
                  0.128,
                  0.16
                ],
                [
                  "Yemen",
                  133,
                  3.561,
                  3.714,
                  3.408,
                  0.671,
                  1.281,
                  0.293,
                  0.362,
                  0.08,
                  0.113
                ],
                [
                  "Zambia",
                  134,
                  3.502,
                  3.636,
                  3.368,
                  0.899,
                  0.809,
                  0.264,
                  0.727,
                  0.168,
                  0.109
                ],
                [
                  "Eswatini",
                  135,
                  3.502,
                  3.673,
                  3.331,
                  1.255,
                  0.925,
                  0.176,
                  0.284,
                  0.059,
                  0.116
                ],
                [
                  "Malawi",
                  136,
                  3.421,
                  3.561,
                  3.281,
                  0.617,
                  0.41,
                  0.349,
                  0.571,
                  0.135,
                  0.136
                ],
                [
                  "Botswana",
                  137,
                  3.383,
                  3.558,
                  3.209,
                  1.445,
                  0.969,
                  0.241,
                  0.567,
                  0.014,
                  0.082
                ],
                [
                  "Zimbabwe",
                  138,
                  3.341,
                  3.457,
                  3.226,
                  0.748,
                  0.85,
                  0.232,
                  0.487,
                  0.096,
                  0.131
                ],
                [
                  "Congo (Kinshasa)",
                  139,
                  3.295,
                  3.462,
                  3.128,
                  0.534,
                  0.665,
                  0.262,
                  0.473,
                  0.189,
                  0.072
                ],
                [
                  "Sierra Leone",
                  140,
                  3.245,
                  3.366,
                  3.124,
                  0.654,
                  0.566,
                  0.253,
                  0.469,
                  0.181,
                  0.053
                ],
                [
                  "Lesotho",
                  141,
                  3.186,
                  3.469,
                  2.904,
                  0.771,
                  0.851,
                  0,
                  0.523,
                  0.082,
                  0.085
                ],
                [
                  "Lebanon",
                  142,
                  2.707,
                  2.797,
                  2.616,
                  1.377,
                  0.577,
                  0.556,
                  0.173,
                  0.068,
                  0.029
                ],
                [
                  "Afghanistan",
                  143,
                  1.721,
                  1.775,
                  1.667,
                  0.628,
                  0,
                  0.242,
                  0,
                  0.091,
                  0.088
                ]
              ],
              "datasetInfos": [],
              "dbfsResultPath": null,
              "isJsonSchema": true,
              "metadata": {},
              "overflow": false,
              "plotOptions": {
                "customPlotOptions": {},
                "displayType": "table",
                "pivotAggregation": null,
                "pivotColumns": null,
                "xColumns": null,
                "yColumns": null
              },
              "removedWidgets": [],
              "schema": [
                {
                  "metadata": "{}",
                  "name": "country_name",
                  "type": "\"string\""
                },
                {
                  "metadata": "{}",
                  "name": "happiness_rank",
                  "type": "\"integer\""
                },
                {
                  "metadata": "{}",
                  "name": "happiness_score",
                  "type": "\"double\""
                },
                {
                  "metadata": "{}",
                  "name": "upperwhisker",
                  "type": "\"double\""
                },
                {
                  "metadata": "{}",
                  "name": "lowerwhisker",
                  "type": "\"double\""
                },
                {
                  "metadata": "{}",
                  "name": "economy_GDP_per_capita",
                  "type": "\"double\""
                },
                {
                  "metadata": "{}",
                  "name": "social_support",
                  "type": "\"double\""
                },
                {
                  "metadata": "{}",
                  "name": "healthy_life_expectancy",
                  "type": "\"double\""
                },
                {
                  "metadata": "{}",
                  "name": "freedom_to_make_life_choices",
                  "type": "\"double\""
                },
                {
                  "metadata": "{}",
                  "name": "generosity",
                  "type": "\"double\""
                },
                {
                  "metadata": "{}",
                  "name": "perceptions_corruption",
                  "type": "\"double\""
                }
              ],
              "type": "table"
            }
          }
        }
      ],
      "source": [
        "# Reemplazamos con el nombre de nuestro catálago, esquema y volumen creado\n",
        "volume_path = \"/Volumes/catalogo/esquema/volumen/2024.csv\"\n",
        "\n",
        "# Load the CSV file into a DataFrame\n",
        "df = spark.read.format(\"csv\") \\\n",
        "  .option(\"header\", \"true\") \\\n",
        "  .option(\"inferSchema\", \"true\") \\\n",
        "  .load(volume_path)\n",
        "\n",
        "# Display the DataFrame\n",
        "df.display()"
      ]
    },
    {
      "cell_type": "code",
      "execution_count": null,
      "metadata": {
        "application/vnd.databricks.v1+cell": {
          "cellMetadata": {
            "byteLimit": 2048000,
            "rowLimit": 10000
          },
          "inputWidgets": {},
          "nuid": "0df8fb6a-8918-4566-9355-34dc8432b0f4",
          "showTitle": false,
          "tableResultSettingsMap": {},
          "title": ""
        },
        "id": "RT25oT0JcHm6",
        "outputId": "a4668b37-1429-44cc-8ec9-15f414d317fe"
      },
      "outputs": [
        {
          "output_type": "stream",
          "name": "stdout",
          "text": [
            "root\n |-- country_name: string (nullable = true)\n |-- happiness_rank: integer (nullable = true)\n |-- happiness_score: double (nullable = true)\n |-- upperwhisker: double (nullable = true)\n |-- lowerwhisker: double (nullable = true)\n |-- economy_GDP_per_capita: double (nullable = true)\n |-- social_support: double (nullable = true)\n |-- healthy_life_expectancy: double (nullable = true)\n |-- freedom_to_make_life_choices: double (nullable = true)\n |-- generosity: double (nullable = true)\n |-- perceptions_corruption: double (nullable = true)\n\n"
          ]
        }
      ],
      "source": [
        "df.printSchema()"
      ]
    },
    {
      "cell_type": "code",
      "execution_count": null,
      "metadata": {
        "application/vnd.databricks.v1+cell": {
          "cellMetadata": {
            "byteLimit": 2048000,
            "rowLimit": 10000
          },
          "inputWidgets": {},
          "nuid": "756c285c-51b3-4969-bbdc-325b7aa0c67d",
          "showTitle": false,
          "tableResultSettingsMap": {},
          "title": ""
        },
        "id": "SNyreqJTcHm6",
        "outputId": "e4b889c3-8495-4ffb-be94-526848e7f917"
      },
      "outputs": [
        {
          "output_type": "display_data",
          "data": {
            "text/html": [
              "<style scoped>\n",
              "  .table-result-container {\n",
              "    max-height: 300px;\n",
              "    overflow: auto;\n",
              "  }\n",
              "  table, th, td {\n",
              "    border: 1px solid black;\n",
              "    border-collapse: collapse;\n",
              "  }\n",
              "  th, td {\n",
              "    padding: 5px;\n",
              "  }\n",
              "  th {\n",
              "    text-align: left;\n",
              "  }\n",
              "</style><div class='table-result-container'><table class='table-result'><thead style='background-color: white'><tr><th>country_name</th><th>happiness_rank</th><th>happiness_score</th><th>upperwhisker</th><th>lowerwhisker</th><th>economy_GDP_per_capita</th><th>social_support</th><th>healthy_life_expectancy</th><th>freedom_to_make_life_choices</th><th>generosity</th><th>perceptions_corruption</th></tr></thead><tbody><tr><td>Finland</td><td>1</td><td>7.741</td><td>7.815</td><td>7.667</td><td>1.844</td><td>1.572</td><td>0.695</td><td>0.859</td><td>0.142</td><td>0.546</td></tr><tr><td>Denmark</td><td>2</td><td>7.583</td><td>7.665</td><td>7.5</td><td>1.908</td><td>1.52</td><td>0.699</td><td>0.823</td><td>0.204</td><td>0.548</td></tr><tr><td>Iceland</td><td>3</td><td>7.525</td><td>7.618</td><td>7.433</td><td>1.881</td><td>1.617</td><td>0.718</td><td>0.819</td><td>0.258</td><td>0.182</td></tr><tr><td>Sweden</td><td>4</td><td>7.344</td><td>7.422</td><td>7.267</td><td>1.878</td><td>1.501</td><td>0.724</td><td>0.838</td><td>0.221</td><td>0.524</td></tr><tr><td>Israel</td><td>5</td><td>7.341</td><td>7.405</td><td>7.277</td><td>1.803</td><td>1.513</td><td>0.74</td><td>0.641</td><td>0.153</td><td>0.193</td></tr><tr><td>Netherlands</td><td>6</td><td>7.319</td><td>7.383</td><td>7.256</td><td>1.901</td><td>1.462</td><td>0.706</td><td>0.725</td><td>0.247</td><td>0.372</td></tr><tr><td>Norway</td><td>7</td><td>7.302</td><td>7.389</td><td>7.215</td><td>1.952</td><td>1.517</td><td>0.704</td><td>0.835</td><td>0.224</td><td>0.484</td></tr><tr><td>Luxembourg</td><td>8</td><td>7.122</td><td>7.213</td><td>7.031</td><td>2.141</td><td>1.355</td><td>0.708</td><td>0.801</td><td>0.146</td><td>0.432</td></tr><tr><td>Switzerland</td><td>9</td><td>7.06</td><td>7.147</td><td>6.973</td><td>1.97</td><td>1.425</td><td>0.747</td><td>0.759</td><td>0.173</td><td>0.498</td></tr><tr><td>Australia</td><td>10</td><td>7.057</td><td>7.141</td><td>6.973</td><td>1.854</td><td>1.461</td><td>0.692</td><td>0.756</td><td>0.225</td><td>0.323</td></tr><tr><td>New Zealand</td><td>11</td><td>7.029</td><td>7.105</td><td>6.954</td><td>1.81</td><td>1.527</td><td>0.673</td><td>0.746</td><td>0.226</td><td>0.48</td></tr></tbody></table></div>"
            ]
          },
          "metadata": {
            "application/vnd.databricks.v1+output": {
              "addedWidgets": {},
              "aggData": [],
              "aggError": "",
              "aggOverflow": false,
              "aggSchema": [],
              "aggSeriesLimitReached": false,
              "aggType": "",
              "arguments": {},
              "columnCustomDisplayInfos": {},
              "data": [
                [
                  "Finland",
                  1,
                  7.741,
                  7.815,
                  7.667,
                  1.844,
                  1.572,
                  0.695,
                  0.859,
                  0.142,
                  0.546
                ],
                [
                  "Denmark",
                  2,
                  7.583,
                  7.665,
                  7.5,
                  1.908,
                  1.52,
                  0.699,
                  0.823,
                  0.204,
                  0.548
                ],
                [
                  "Iceland",
                  3,
                  7.525,
                  7.618,
                  7.433,
                  1.881,
                  1.617,
                  0.718,
                  0.819,
                  0.258,
                  0.182
                ],
                [
                  "Sweden",
                  4,
                  7.344,
                  7.422,
                  7.267,
                  1.878,
                  1.501,
                  0.724,
                  0.838,
                  0.221,
                  0.524
                ],
                [
                  "Israel",
                  5,
                  7.341,
                  7.405,
                  7.277,
                  1.803,
                  1.513,
                  0.74,
                  0.641,
                  0.153,
                  0.193
                ],
                [
                  "Netherlands",
                  6,
                  7.319,
                  7.383,
                  7.256,
                  1.901,
                  1.462,
                  0.706,
                  0.725,
                  0.247,
                  0.372
                ],
                [
                  "Norway",
                  7,
                  7.302,
                  7.389,
                  7.215,
                  1.952,
                  1.517,
                  0.704,
                  0.835,
                  0.224,
                  0.484
                ],
                [
                  "Luxembourg",
                  8,
                  7.122,
                  7.213,
                  7.031,
                  2.141,
                  1.355,
                  0.708,
                  0.801,
                  0.146,
                  0.432
                ],
                [
                  "Switzerland",
                  9,
                  7.06,
                  7.147,
                  6.973,
                  1.97,
                  1.425,
                  0.747,
                  0.759,
                  0.173,
                  0.498
                ],
                [
                  "Australia",
                  10,
                  7.057,
                  7.141,
                  6.973,
                  1.854,
                  1.461,
                  0.692,
                  0.756,
                  0.225,
                  0.323
                ],
                [
                  "New Zealand",
                  11,
                  7.029,
                  7.105,
                  6.954,
                  1.81,
                  1.527,
                  0.673,
                  0.746,
                  0.226,
                  0.48
                ]
              ],
              "datasetInfos": [],
              "dbfsResultPath": null,
              "isJsonSchema": true,
              "metadata": {},
              "overflow": false,
              "plotOptions": {
                "customPlotOptions": {},
                "displayType": "table",
                "pivotAggregation": null,
                "pivotColumns": null,
                "xColumns": null,
                "yColumns": null
              },
              "removedWidgets": [],
              "schema": [
                {
                  "metadata": "{}",
                  "name": "country_name",
                  "type": "\"string\""
                },
                {
                  "metadata": "{}",
                  "name": "happiness_rank",
                  "type": "\"integer\""
                },
                {
                  "metadata": "{}",
                  "name": "happiness_score",
                  "type": "\"double\""
                },
                {
                  "metadata": "{}",
                  "name": "upperwhisker",
                  "type": "\"double\""
                },
                {
                  "metadata": "{}",
                  "name": "lowerwhisker",
                  "type": "\"double\""
                },
                {
                  "metadata": "{}",
                  "name": "economy_GDP_per_capita",
                  "type": "\"double\""
                },
                {
                  "metadata": "{}",
                  "name": "social_support",
                  "type": "\"double\""
                },
                {
                  "metadata": "{}",
                  "name": "healthy_life_expectancy",
                  "type": "\"double\""
                },
                {
                  "metadata": "{}",
                  "name": "freedom_to_make_life_choices",
                  "type": "\"double\""
                },
                {
                  "metadata": "{}",
                  "name": "generosity",
                  "type": "\"double\""
                },
                {
                  "metadata": "{}",
                  "name": "perceptions_corruption",
                  "type": "\"double\""
                }
              ],
              "type": "table"
            }
          }
        },
        {
          "output_type": "display_data",
          "data": {
            "text/plain": [
              "Databricks visualization. Run in Databricks to view."
            ]
          },
          "metadata": {
            "application/vnd.databricks.v1.subcommand+json": {
              "baseErrorDetails": null,
              "bindings": {},
              "collapsed": false,
              "command": "%python\n__backend_agg_display_orig = display\n__backend_agg_dfs = []\ndef __backend_agg_display_new(df):\n    __backend_agg_df_modules = [\"pandas.core.frame\", \"databricks.koalas.frame\", \"pyspark.sql.dataframe\", \"pyspark.pandas.frame\", \"pyspark.sql.connect.dataframe\"]\n    if (type(df).__module__ in __backend_agg_df_modules and type(df).__name__ == 'DataFrame') or isinstance(df, list):\n        __backend_agg_dfs.append(df)\n\ndisplay = __backend_agg_display_new\n\ndef __backend_agg_user_code_fn():\n    import base64\n    exec(base64.standard_b64decode(\"ZGlzcGxheShkZi5maWx0ZXIoZGZbImhhcHBpbmVzc19zY29yZSJdID4gNykp\").decode())\n\ntry:\n    # run user code\n    __backend_agg_user_code_fn()\n\n    #reset display function\n    display = __backend_agg_display_orig\n\n    if len(__backend_agg_dfs) > 0:\n        # create a temp view\n        if type(__backend_agg_dfs[0]).__module__ == \"databricks.koalas.frame\":\n            # koalas dataframe\n            __backend_agg_dfs[0].to_spark().createOrReplaceTempView(\"DatabricksViewd358fef\")\n        elif type(__backend_agg_dfs[0]).__module__ == \"pandas.core.frame\" or isinstance(__backend_agg_dfs[0], list):\n            # pandas dataframe\n            spark.createDataFrame(__backend_agg_dfs[0]).createOrReplaceTempView(\"DatabricksViewd358fef\")\n        else:\n            __backend_agg_dfs[0].createOrReplaceTempView(\"DatabricksViewd358fef\")\n        #run backend agg\n        display(spark.sql(\"\"\"WITH q AS (select * from DatabricksViewd358fef) SELECT `Country name`,SUM(`happiness_score`) `column_f88b59a0118` FROM q GROUP BY `Country name`\"\"\"))\n    else:\n        displayHTML(\"dataframe no longer exists. If you're using dataframe.display(), use display(dataframe) instead.\")\n\n\nfinally:\n    spark.sql(\"drop view if exists DatabricksViewd358fef\")\n    display = __backend_agg_display_orig\n    del __backend_agg_display_new\n    del __backend_agg_display_orig\n    del __backend_agg_dfs\n    del __backend_agg_user_code_fn\n\n",
              "commandTitle": "Visualization 1",
              "commandType": "auto",
              "commandVersion": 0,
              "commentThread": [],
              "commentsVisible": false,
              "contentSha256Hex": null,
              "customPlotOptions": {
                "redashChart": [
                  {
                    "key": "type",
                    "value": "CHART"
                  },
                  {
                    "key": "options",
                    "value": {
                      "alignYAxesAtZero": true,
                      "coefficient": 1,
                      "columnConfigurationMap": {
                        "x": {
                          "column": "Country name",
                          "id": "column_f88b59a0116"
                        },
                        "y": [
                          {
                            "column": "happiness_score",
                            "id": "column_f88b59a0118",
                            "transform": "SUM"
                          }
                        ]
                      },
                      "dateTimeFormat": "DD/MM/YYYY HH:mm",
                      "direction": {
                        "type": "counterclockwise"
                      },
                      "error_y": {
                        "type": "data",
                        "visible": true
                      },
                      "globalSeriesType": "column",
                      "isAggregationOn": true,
                      "legend": {
                        "traceorder": "normal"
                      },
                      "missingValuesAsZero": true,
                      "numberFormat": "0,0.[00000]",
                      "percentFormat": "0[.]00%",
                      "series": {
                        "error_y": {
                          "type": "data",
                          "visible": true
                        },
                        "stacking": null
                      },
                      "seriesOptions": {
                        "column_f88b59a0118": {
                          "color": "#FFAB00",
                          "type": "column",
                          "yAxis": 0
                        },
                        "column_f88b59a0124": {
                          "type": "column",
                          "yAxis": 0
                        }
                      },
                      "showDataLabels": false,
                      "sizemode": "diameter",
                      "sortX": false,
                      "sortY": true,
                      "swappedAxes": false,
                      "textFormat": "",
                      "useAggregationsUi": true,
                      "valuesOptions": {},
                      "version": 2,
                      "xAxis": {
                        "labels": {
                          "enabled": true
                        },
                        "type": "-"
                      },
                      "yAxis": [
                        {
                          "type": "-"
                        },
                        {
                          "opposite": true,
                          "type": "-"
                        }
                      ]
                    }
                  }
                ]
              },
              "datasetPreviewNameToCmdIdMap": {},
              "diffDeletes": [],
              "diffInserts": [],
              "displayType": "redashChart",
              "error": null,
              "errorDetails": null,
              "errorSummary": null,
              "errorTraceType": null,
              "finishTime": 0,
              "globalVars": {},
              "guid": "",
              "height": "auto",
              "hideCommandCode": false,
              "hideCommandResult": false,
              "iPythonMetadata": null,
              "inputWidgets": {},
              "isLockedInExamMode": false,
              "latestUser": "a user",
              "latestUserId": null,
              "listResultMetadata": null,
              "metadata": {
                "byteLimit": 2048000,
                "rowLimit": 10000
              },
              "nuid": "fffcb665-7899-452c-8896-f0735b649668",
              "origId": 0,
              "parentHierarchy": [],
              "pivotAggregation": null,
              "pivotColumns": null,
              "position": 7,
              "resultDbfsErrorMessage": null,
              "resultDbfsStatus": "INLINED_IN_TREE",
              "results": null,
              "showCommandTitle": false,
              "startTime": 0,
              "state": "finished",
              "streamStates": {},
              "subcommandOptions": {
                "queryPlan": {
                  "groups": [
                    {
                      "column": "Country name",
                      "type": "column"
                    }
                  ],
                  "selects": [
                    {
                      "column": "Country name",
                      "type": "column"
                    },
                    {
                      "alias": "column_f88b59a0118",
                      "args": [
                        {
                          "column": "happiness_score",
                          "type": "column"
                        }
                      ],
                      "function": "SUM",
                      "type": "function"
                    }
                  ]
                }
              },
              "submitTime": 0,
              "subtype": "tableResultSubCmd.visualization",
              "tableResultIndex": 0,
              "tableResultSettingsMap": {},
              "useConsistentColors": false,
              "version": "CommandV1",
              "width": "auto",
              "workflows": [],
              "xColumns": null,
              "yColumns": null
            }
          }
        }
      ],
      "source": [
        "display(df.filter(df[\"happiness_score\"] > 7))"
      ]
    },
    {
      "cell_type": "code",
      "execution_count": null,
      "metadata": {
        "application/vnd.databricks.v1+cell": {
          "cellMetadata": {
            "byteLimit": 2048000,
            "rowLimit": 10000
          },
          "inputWidgets": {},
          "nuid": "4c7ce727-b983-4da5-a121-e2bdf9496954",
          "showTitle": false,
          "tableResultSettingsMap": {},
          "title": ""
        },
        "id": "aaPbenbIcHm7",
        "outputId": "13c3d9c9-5454-4f8c-ba99-bca83b021c0c"
      },
      "outputs": [
        {
          "output_type": "display_data",
          "data": {
            "text/html": [
              "<style scoped>\n",
              "  .table-result-container {\n",
              "    max-height: 300px;\n",
              "    overflow: auto;\n",
              "  }\n",
              "  table, th, td {\n",
              "    border: 1px solid black;\n",
              "    border-collapse: collapse;\n",
              "  }\n",
              "  th, td {\n",
              "    padding: 5px;\n",
              "  }\n",
              "  th {\n",
              "    text-align: left;\n",
              "  }\n",
              "</style><div class='table-result-container'><table class='table-result'><thead style='background-color: white'><tr><th>happiness_score</th><th>count</th></tr></thead><tbody><tr><td>3.502</td><td>2</td></tr><tr><td>5.816</td><td>2</td></tr><tr><td>6.188</td><td>2</td></tr><tr><td>4.471</td><td>1</td></tr><tr><td>5.973</td><td>1</td></tr><tr><td>7.341</td><td>1</td></tr><tr><td>7.583</td><td>1</td></tr><tr><td>5.842</td><td>1</td></tr><tr><td>7.057</td><td>1</td></tr><tr><td>4.269</td><td>1</td></tr><tr><td>5.784</td><td>1</td></tr><tr><td>4.289</td><td>1</td></tr><tr><td>6.749</td><td>1</td></tr><tr><td>6.719</td><td>1</td></tr><tr><td>5.304</td><td>1</td></tr><tr><td>4.923</td><td>1</td></tr><tr><td>5.934</td><td>1</td></tr><tr><td>3.566</td><td>1</td></tr><tr><td>6.609</td><td>1</td></tr><tr><td>6.955</td><td>1</td></tr><tr><td>5.369</td><td>1</td></tr><tr><td>6.561</td><td>1</td></tr><tr><td>6.448</td><td>1</td></tr><tr><td>3.861</td><td>1</td></tr><tr><td>5.221</td><td>1</td></tr><tr><td>6.523</td><td>1</td></tr><tr><td>7.741</td><td>1</td></tr><tr><td>4.214</td><td>1</td></tr><tr><td>6.284</td><td>1</td></tr><tr><td>4.354</td><td>1</td></tr><tr><td>4.054</td><td>1</td></tr><tr><td>7.122</td><td>1</td></tr><tr><td>6.06</td><td>1</td></tr><tr><td>6.043</td><td>1</td></tr><tr><td>6.058</td><td>1</td></tr><tr><td>7.302</td><td>1</td></tr><tr><td>6.03</td><td>1</td></tr><tr><td>6.822</td><td>1</td></tr><tr><td>5.707</td><td>1</td></tr><tr><td>4.873</td><td>1</td></tr><tr><td>6.678</td><td>1</td></tr><tr><td>6.411</td><td>1</td></tr><tr><td>6.048</td><td>1</td></tr><tr><td>6.818</td><td>1</td></tr><tr><td>6.272</td><td>1</td></tr><tr><td>5.977</td><td>1</td></tr><tr><td>2.707</td><td>1</td></tr><tr><td>3.977</td><td>1</td></tr><tr><td>5.08</td><td>1</td></tr><tr><td>5.607</td><td>1</td></tr><tr><td>3.781</td><td>1</td></tr><tr><td>5.316</td><td>1</td></tr><tr><td>5.823</td><td>1</td></tr><tr><td>4.881</td><td>1</td></tr><tr><td>5.942</td><td>1</td></tr><tr><td>3.186</td><td>1</td></tr><tr><td>4.975</td><td>1</td></tr><tr><td>6.017</td><td>1</td></tr><tr><td>5.422</td><td>1</td></tr><tr><td>4.657</td><td>1</td></tr><tr><td>4.186</td><td>1</td></tr><tr><td>5.725</td><td>1</td></tr><tr><td>6.234</td><td>1</td></tr><tr><td>6.195</td><td>1</td></tr><tr><td>4.228</td><td>1</td></tr><tr><td>3.898</td><td>1</td></tr><tr><td>6.469</td><td>1</td></tr><tr><td>4.341</td><td>1</td></tr><tr><td>5.785</td><td>1</td></tr><tr><td>5.696</td><td>1</td></tr><tr><td>6.503</td><td>1</td></tr><tr><td>5.281</td><td>1</td></tr><tr><td>6.346</td><td>1</td></tr><tr><td>6.594</td><td>1</td></tr><tr><td>3.886</td><td>1</td></tr><tr><td>3.421</td><td>1</td></tr><tr><td>6.491</td><td>1</td></tr><tr><td>3.245</td><td>1</td></tr><tr><td>5.139</td><td>1</td></tr><tr><td>6.9</td><td>1</td></tr><tr><td>4.969</td><td>1</td></tr><tr><td>5.877</td><td>1</td></tr><tr><td>6.421</td><td>1</td></tr><tr><td>3.383</td><td>1</td></tr><tr><td>5.959</td><td>1</td></tr><tr><td>3.341</td><td>1</td></tr><tr><td>4.874</td><td>1</td></tr><tr><td>4.548</td><td>1</td></tr><tr><td>4.795</td><td>1</td></tr><tr><td>5.968</td><td>1</td></tr><tr><td>5.455</td><td>1</td></tr><tr><td>7.344</td><td>1</td></tr><tr><td>7.06</td><td>1</td></tr><tr><td>3.561</td><td>1</td></tr><tr><td>6.324</td><td>1</td></tr><tr><td>5.463</td><td>1</td></tr><tr><td>5.695</td><td>1</td></tr><tr><td>6.905</td><td>1</td></tr><tr><td>3.295</td><td>1</td></tr><tr><td>7.525</td><td>1</td></tr><tr><td>5.364</td><td>1</td></tr><tr><td>4.372</td><td>1</td></tr><tr><td>6.36</td><td>1</td></tr><tr><td>4.422</td><td>1</td></tr><tr><td>4.232</td><td>1</td></tr><tr><td>4.505</td><td>1</td></tr><tr><td>5.166</td><td>1</td></tr><tr><td>5.216</td><td>1</td></tr><tr><td>5.185</td><td>1</td></tr><tr><td>5.866</td><td>1</td></tr><tr><td>6.442</td><td>1</td></tr><tr><td>4.485</td><td>1</td></tr><tr><td>6.358</td><td>1</td></tr><tr><td>6.743</td><td>1</td></tr><tr><td>6.733</td><td>1</td></tr><tr><td>6.287</td><td>1</td></tr><tr><td>5.158</td><td>1</td></tr><tr><td>5.023</td><td>1</td></tr><tr><td>6.611</td><td>1</td></tr><tr><td>4.832</td><td>1</td></tr><tr><td>5.976</td><td>1</td></tr><tr><td>6.838</td><td>1</td></tr><tr><td>7.029</td><td>1</td></tr><tr><td>5.714</td><td>1</td></tr><tr><td>5.568</td><td>1</td></tr><tr><td>6.257</td><td>1</td></tr><tr><td>4.556</td><td>1</td></tr><tr><td>5.106</td><td>1</td></tr><tr><td>6.068</td><td>1</td></tr><tr><td>7.319</td><td>1</td></tr><tr><td>4.893</td><td>1</td></tr><tr><td>4.377</td><td>1</td></tr><tr><td>4.47</td><td>1</td></tr><tr><td>5.841</td><td>1</td></tr><tr><td>6.725</td><td>1</td></tr><tr><td>6.951</td><td>1</td></tr><tr><td>5.975</td><td>1</td></tr><tr><td>4.879</td><td>1</td></tr><tr><td>6.894</td><td>1</td></tr><tr><td>1.721</td><td>1</td></tr></tbody></table></div>"
            ]
          },
          "metadata": {
            "application/vnd.databricks.v1+output": {
              "addedWidgets": {},
              "aggData": [],
              "aggError": "",
              "aggOverflow": false,
              "aggSchema": [],
              "aggSeriesLimitReached": false,
              "aggType": "",
              "arguments": {},
              "columnCustomDisplayInfos": {},
              "data": [
                [
                  3.502,
                  2
                ],
                [
                  5.816,
                  2
                ],
                [
                  6.188,
                  2
                ],
                [
                  4.471,
                  1
                ],
                [
                  5.973,
                  1
                ],
                [
                  7.341,
                  1
                ],
                [
                  7.583,
                  1
                ],
                [
                  5.842,
                  1
                ],
                [
                  7.057,
                  1
                ],
                [
                  4.269,
                  1
                ],
                [
                  5.784,
                  1
                ],
                [
                  4.289,
                  1
                ],
                [
                  6.749,
                  1
                ],
                [
                  6.719,
                  1
                ],
                [
                  5.304,
                  1
                ],
                [
                  4.923,
                  1
                ],
                [
                  5.934,
                  1
                ],
                [
                  3.566,
                  1
                ],
                [
                  6.609,
                  1
                ],
                [
                  6.955,
                  1
                ],
                [
                  5.369,
                  1
                ],
                [
                  6.561,
                  1
                ],
                [
                  6.448,
                  1
                ],
                [
                  3.861,
                  1
                ],
                [
                  5.221,
                  1
                ],
                [
                  6.523,
                  1
                ],
                [
                  7.741,
                  1
                ],
                [
                  4.214,
                  1
                ],
                [
                  6.284,
                  1
                ],
                [
                  4.354,
                  1
                ],
                [
                  4.054,
                  1
                ],
                [
                  7.122,
                  1
                ],
                [
                  6.06,
                  1
                ],
                [
                  6.043,
                  1
                ],
                [
                  6.058,
                  1
                ],
                [
                  7.302,
                  1
                ],
                [
                  6.03,
                  1
                ],
                [
                  6.822,
                  1
                ],
                [
                  5.707,
                  1
                ],
                [
                  4.873,
                  1
                ],
                [
                  6.678,
                  1
                ],
                [
                  6.411,
                  1
                ],
                [
                  6.048,
                  1
                ],
                [
                  6.818,
                  1
                ],
                [
                  6.272,
                  1
                ],
                [
                  5.977,
                  1
                ],
                [
                  2.707,
                  1
                ],
                [
                  3.977,
                  1
                ],
                [
                  5.08,
                  1
                ],
                [
                  5.607,
                  1
                ],
                [
                  3.781,
                  1
                ],
                [
                  5.316,
                  1
                ],
                [
                  5.823,
                  1
                ],
                [
                  4.881,
                  1
                ],
                [
                  5.942,
                  1
                ],
                [
                  3.186,
                  1
                ],
                [
                  4.975,
                  1
                ],
                [
                  6.017,
                  1
                ],
                [
                  5.422,
                  1
                ],
                [
                  4.657,
                  1
                ],
                [
                  4.186,
                  1
                ],
                [
                  5.725,
                  1
                ],
                [
                  6.234,
                  1
                ],
                [
                  6.195,
                  1
                ],
                [
                  4.228,
                  1
                ],
                [
                  3.898,
                  1
                ],
                [
                  6.469,
                  1
                ],
                [
                  4.341,
                  1
                ],
                [
                  5.785,
                  1
                ],
                [
                  5.696,
                  1
                ],
                [
                  6.503,
                  1
                ],
                [
                  5.281,
                  1
                ],
                [
                  6.346,
                  1
                ],
                [
                  6.594,
                  1
                ],
                [
                  3.886,
                  1
                ],
                [
                  3.421,
                  1
                ],
                [
                  6.491,
                  1
                ],
                [
                  3.245,
                  1
                ],
                [
                  5.139,
                  1
                ],
                [
                  6.9,
                  1
                ],
                [
                  4.969,
                  1
                ],
                [
                  5.877,
                  1
                ],
                [
                  6.421,
                  1
                ],
                [
                  3.383,
                  1
                ],
                [
                  5.959,
                  1
                ],
                [
                  3.341,
                  1
                ],
                [
                  4.874,
                  1
                ],
                [
                  4.548,
                  1
                ],
                [
                  4.795,
                  1
                ],
                [
                  5.968,
                  1
                ],
                [
                  5.455,
                  1
                ],
                [
                  7.344,
                  1
                ],
                [
                  7.06,
                  1
                ],
                [
                  3.561,
                  1
                ],
                [
                  6.324,
                  1
                ],
                [
                  5.463,
                  1
                ],
                [
                  5.695,
                  1
                ],
                [
                  6.905,
                  1
                ],
                [
                  3.295,
                  1
                ],
                [
                  7.525,
                  1
                ],
                [
                  5.364,
                  1
                ],
                [
                  4.372,
                  1
                ],
                [
                  6.36,
                  1
                ],
                [
                  4.422,
                  1
                ],
                [
                  4.232,
                  1
                ],
                [
                  4.505,
                  1
                ],
                [
                  5.166,
                  1
                ],
                [
                  5.216,
                  1
                ],
                [
                  5.185,
                  1
                ],
                [
                  5.866,
                  1
                ],
                [
                  6.442,
                  1
                ],
                [
                  4.485,
                  1
                ],
                [
                  6.358,
                  1
                ],
                [
                  6.743,
                  1
                ],
                [
                  6.733,
                  1
                ],
                [
                  6.287,
                  1
                ],
                [
                  5.158,
                  1
                ],
                [
                  5.023,
                  1
                ],
                [
                  6.611,
                  1
                ],
                [
                  4.832,
                  1
                ],
                [
                  5.976,
                  1
                ],
                [
                  6.838,
                  1
                ],
                [
                  7.029,
                  1
                ],
                [
                  5.714,
                  1
                ],
                [
                  5.568,
                  1
                ],
                [
                  6.257,
                  1
                ],
                [
                  4.556,
                  1
                ],
                [
                  5.106,
                  1
                ],
                [
                  6.068,
                  1
                ],
                [
                  7.319,
                  1
                ],
                [
                  4.893,
                  1
                ],
                [
                  4.377,
                  1
                ],
                [
                  4.47,
                  1
                ],
                [
                  5.841,
                  1
                ],
                [
                  6.725,
                  1
                ],
                [
                  6.951,
                  1
                ],
                [
                  5.975,
                  1
                ],
                [
                  4.879,
                  1
                ],
                [
                  6.894,
                  1
                ],
                [
                  1.721,
                  1
                ]
              ],
              "datasetInfos": [],
              "dbfsResultPath": null,
              "isJsonSchema": true,
              "metadata": {},
              "overflow": false,
              "plotOptions": {
                "customPlotOptions": {},
                "displayType": "table",
                "pivotAggregation": null,
                "pivotColumns": null,
                "xColumns": null,
                "yColumns": null
              },
              "removedWidgets": [],
              "schema": [
                {
                  "metadata": "{}",
                  "name": "happiness_score",
                  "type": "\"double\""
                },
                {
                  "metadata": "{}",
                  "name": "count",
                  "type": "\"long\""
                }
              ],
              "type": "table"
            }
          }
        }
      ],
      "source": [
        "#Primera consulta: agrupamos los registros de la tabla por el campo de happiness_score (usando la sintáxis del DataFrame)\n",
        "display(df.groupBy('happiness_score')\n",
        "          .count()\n",
        "          .orderBy('count', ascending=False))"
      ]
    },
    {
      "cell_type": "code",
      "execution_count": null,
      "metadata": {
        "application/vnd.databricks.v1+cell": {
          "cellMetadata": {
            "byteLimit": 2048000,
            "rowLimit": 10000
          },
          "inputWidgets": {},
          "nuid": "6c3c68d7-e626-40bb-b842-1d798b6529bb",
          "showTitle": false,
          "tableResultSettingsMap": {},
          "title": ""
        },
        "id": "1F7Te6tIcHm7",
        "outputId": "cb7f18e4-9982-4324-862d-b3bb44c66690"
      },
      "outputs": [
        {
          "output_type": "display_data",
          "data": {
            "text/html": [
              "<style scoped>\n",
              "  .table-result-container {\n",
              "    max-height: 300px;\n",
              "    overflow: auto;\n",
              "  }\n",
              "  table, th, td {\n",
              "    border: 1px solid black;\n",
              "    border-collapse: collapse;\n",
              "  }\n",
              "  th, td {\n",
              "    padding: 5px;\n",
              "  }\n",
              "  th {\n",
              "    text-align: left;\n",
              "  }\n",
              "</style><div class='table-result-container'><table class='table-result'><thead style='background-color: white'><tr><th>country_name</th><th>happiness_rank</th><th>happiness_score</th><th>upperwhisker</th><th>lowerwhisker</th><th>economy_GDP_per_capita</th><th>social_support</th><th>healthy_life_expectancy</th><th>freedom_to_make_life_choices</th><th>generosity</th><th>perceptions_corruption</th></tr></thead><tbody><tr><td>Iceland</td><td>3</td><td>7.525</td><td>7.618</td><td>7.433</td><td>1.881</td><td>1.617</td><td>0.718</td><td>0.819</td><td>0.258</td><td>0.182</td></tr><tr><td>Sweden</td><td>4</td><td>7.344</td><td>7.422</td><td>7.267</td><td>1.878</td><td>1.501</td><td>0.724</td><td>0.838</td><td>0.221</td><td>0.524</td></tr><tr><td>Israel</td><td>5</td><td>7.341</td><td>7.405</td><td>7.277</td><td>1.803</td><td>1.513</td><td>0.74</td><td>0.641</td><td>0.153</td><td>0.193</td></tr><tr><td>Netherlands</td><td>6</td><td>7.319</td><td>7.383</td><td>7.256</td><td>1.901</td><td>1.462</td><td>0.706</td><td>0.725</td><td>0.247</td><td>0.372</td></tr><tr><td>Norway</td><td>7</td><td>7.302</td><td>7.389</td><td>7.215</td><td>1.952</td><td>1.517</td><td>0.704</td><td>0.835</td><td>0.224</td><td>0.484</td></tr><tr><td>Luxembourg</td><td>8</td><td>7.122</td><td>7.213</td><td>7.031</td><td>2.141</td><td>1.355</td><td>0.708</td><td>0.801</td><td>0.146</td><td>0.432</td></tr><tr><td>Switzerland</td><td>9</td><td>7.06</td><td>7.147</td><td>6.973</td><td>1.97</td><td>1.425</td><td>0.747</td><td>0.759</td><td>0.173</td><td>0.498</td></tr><tr><td>Canada</td><td>15</td><td>6.9</td><td>6.984</td><td>6.815</td><td>1.84</td><td>1.459</td><td>0.701</td><td>0.73</td><td>0.23</td><td>0.368</td></tr><tr><td>Germany</td><td>24</td><td>6.719</td><td>6.815</td><td>6.622</td><td>1.871</td><td>1.39</td><td>0.702</td><td>0.7</td><td>0.174</td><td>0.368</td></tr><tr><td>France</td><td>27</td><td>6.609</td><td>6.685</td><td>6.533</td><td>1.818</td><td>1.348</td><td>0.727</td><td>0.65</td><td>0.112</td><td>0.281</td></tr><tr><td>Singapore</td><td>30</td><td>6.523</td><td>6.605</td><td>6.44</td><td>2.118</td><td>1.361</td><td>0.769</td><td>0.743</td><td>0.168</td><td>0.575</td></tr><tr><td>Spain</td><td>36</td><td>6.421</td><td>6.502</td><td>6.339</td><td>1.766</td><td>1.471</td><td>0.729</td><td>0.619</td><td>0.119</td><td>0.177</td></tr><tr><td>Malta</td><td>40</td><td>6.346</td><td>6.43</td><td>6.261</td><td>1.827</td><td>1.444</td><td>0.707</td><td>0.727</td><td>0.25</td><td>0.125</td></tr><tr><td>Italy</td><td>41</td><td>6.324</td><td>6.436</td><td>6.211</td><td>1.8</td><td>1.328</td><td>0.72</td><td>0.513</td><td>0.112</td><td>0.074</td></tr><tr><td>Cyprus</td><td>50</td><td>6.068</td><td>6.182</td><td>5.954</td><td>1.794</td><td>1.217</td><td>0.744</td><td>0.529</td><td>0.124</td><td>0.049</td></tr><tr><td>Japan</td><td>51</td><td>6.06</td><td>6.144</td><td>5.976</td><td>1.786</td><td>1.354</td><td>0.785</td><td>0.632</td><td>0.023</td><td>0.219</td></tr><tr><td>South Korea</td><td>52</td><td>6.058</td><td>6.148</td><td>5.968</td><td>1.815</td><td>1.178</td><td>0.77</td><td>0.555</td><td>0.126</td><td>0.158</td></tr><tr><td>Hong Kong S.A.R. of China</td><td>86</td><td>5.316</td><td>5.403</td><td>5.229</td><td>1.909</td><td>1.184</td><td>0.857</td><td>0.485</td><td>0.147</td><td>0.402</td></tr></tbody></table></div>"
            ]
          },
          "metadata": {
            "application/vnd.databricks.v1+output": {
              "addedWidgets": {},
              "aggData": [],
              "aggError": "",
              "aggOverflow": false,
              "aggSchema": [],
              "aggSeriesLimitReached": false,
              "aggType": "",
              "arguments": {},
              "columnCustomDisplayInfos": {},
              "data": [
                [
                  "Iceland",
                  3,
                  7.525,
                  7.618,
                  7.433,
                  1.881,
                  1.617,
                  0.718,
                  0.819,
                  0.258,
                  0.182
                ],
                [
                  "Sweden",
                  4,
                  7.344,
                  7.422,
                  7.267,
                  1.878,
                  1.501,
                  0.724,
                  0.838,
                  0.221,
                  0.524
                ],
                [
                  "Israel",
                  5,
                  7.341,
                  7.405,
                  7.277,
                  1.803,
                  1.513,
                  0.74,
                  0.641,
                  0.153,
                  0.193
                ],
                [
                  "Netherlands",
                  6,
                  7.319,
                  7.383,
                  7.256,
                  1.901,
                  1.462,
                  0.706,
                  0.725,
                  0.247,
                  0.372
                ],
                [
                  "Norway",
                  7,
                  7.302,
                  7.389,
                  7.215,
                  1.952,
                  1.517,
                  0.704,
                  0.835,
                  0.224,
                  0.484
                ],
                [
                  "Luxembourg",
                  8,
                  7.122,
                  7.213,
                  7.031,
                  2.141,
                  1.355,
                  0.708,
                  0.801,
                  0.146,
                  0.432
                ],
                [
                  "Switzerland",
                  9,
                  7.06,
                  7.147,
                  6.973,
                  1.97,
                  1.425,
                  0.747,
                  0.759,
                  0.173,
                  0.498
                ],
                [
                  "Canada",
                  15,
                  6.9,
                  6.984,
                  6.815,
                  1.84,
                  1.459,
                  0.701,
                  0.73,
                  0.23,
                  0.368
                ],
                [
                  "Germany",
                  24,
                  6.719,
                  6.815,
                  6.622,
                  1.871,
                  1.39,
                  0.702,
                  0.7,
                  0.174,
                  0.368
                ],
                [
                  "France",
                  27,
                  6.609,
                  6.685,
                  6.533,
                  1.818,
                  1.348,
                  0.727,
                  0.65,
                  0.112,
                  0.281
                ],
                [
                  "Singapore",
                  30,
                  6.523,
                  6.605,
                  6.44,
                  2.118,
                  1.361,
                  0.769,
                  0.743,
                  0.168,
                  0.575
                ],
                [
                  "Spain",
                  36,
                  6.421,
                  6.502,
                  6.339,
                  1.766,
                  1.471,
                  0.729,
                  0.619,
                  0.119,
                  0.177
                ],
                [
                  "Malta",
                  40,
                  6.346,
                  6.43,
                  6.261,
                  1.827,
                  1.444,
                  0.707,
                  0.727,
                  0.25,
                  0.125
                ],
                [
                  "Italy",
                  41,
                  6.324,
                  6.436,
                  6.211,
                  1.8,
                  1.328,
                  0.72,
                  0.513,
                  0.112,
                  0.074
                ],
                [
                  "Cyprus",
                  50,
                  6.068,
                  6.182,
                  5.954,
                  1.794,
                  1.217,
                  0.744,
                  0.529,
                  0.124,
                  0.049
                ],
                [
                  "Japan",
                  51,
                  6.06,
                  6.144,
                  5.976,
                  1.786,
                  1.354,
                  0.785,
                  0.632,
                  0.023,
                  0.219
                ],
                [
                  "South Korea",
                  52,
                  6.058,
                  6.148,
                  5.968,
                  1.815,
                  1.178,
                  0.77,
                  0.555,
                  0.126,
                  0.158
                ],
                [
                  "Hong Kong S.A.R. of China",
                  86,
                  5.316,
                  5.403,
                  5.229,
                  1.909,
                  1.184,
                  0.857,
                  0.485,
                  0.147,
                  0.402
                ]
              ],
              "datasetInfos": [],
              "dbfsResultPath": null,
              "isJsonSchema": true,
              "metadata": {},
              "overflow": false,
              "plotOptions": {
                "customPlotOptions": {},
                "displayType": "table",
                "pivotAggregation": null,
                "pivotColumns": null,
                "xColumns": null,
                "yColumns": null
              },
              "removedWidgets": [],
              "schema": [
                {
                  "metadata": "{}",
                  "name": "country_name",
                  "type": "\"string\""
                },
                {
                  "metadata": "{}",
                  "name": "happiness_rank",
                  "type": "\"integer\""
                },
                {
                  "metadata": "{}",
                  "name": "happiness_score",
                  "type": "\"double\""
                },
                {
                  "metadata": "{}",
                  "name": "upperwhisker",
                  "type": "\"double\""
                },
                {
                  "metadata": "{}",
                  "name": "lowerwhisker",
                  "type": "\"double\""
                },
                {
                  "metadata": "{}",
                  "name": "economy_GDP_per_capita",
                  "type": "\"double\""
                },
                {
                  "metadata": "{}",
                  "name": "social_support",
                  "type": "\"double\""
                },
                {
                  "metadata": "{}",
                  "name": "healthy_life_expectancy",
                  "type": "\"double\""
                },
                {
                  "metadata": "{}",
                  "name": "freedom_to_make_life_choices",
                  "type": "\"double\""
                },
                {
                  "metadata": "{}",
                  "name": "generosity",
                  "type": "\"double\""
                },
                {
                  "metadata": "{}",
                  "name": "perceptions_corruption",
                  "type": "\"double\""
                }
              ],
              "type": "table"
            }
          }
        },
        {
          "output_type": "display_data",
          "data": {
            "text/plain": [
              "Databricks visualization. Run in Databricks to view."
            ]
          },
          "metadata": {
            "application/vnd.databricks.v1.subcommand+json": {
              "baseErrorDetails": null,
              "bindings": {},
              "collapsed": false,
              "command": "%python\n__backend_agg_display_orig = display\n__backend_agg_dfs = []\ndef __backend_agg_display_new(df):\n    __backend_agg_df_modules = [\"pandas.core.frame\", \"databricks.koalas.frame\", \"pyspark.sql.dataframe\", \"pyspark.pandas.frame\", \"pyspark.sql.connect.dataframe\"]\n    if (type(df).__module__ in __backend_agg_df_modules and type(df).__name__ == 'DataFrame') or isinstance(df, list):\n        __backend_agg_dfs.append(df)\n\ndisplay = __backend_agg_display_new\n\ndef __backend_agg_user_code_fn():\n    import base64\n    exec(base64.standard_b64decode(\"ZGlzcGxheShkZi5maWx0ZXIoZGZbImhlYWx0aHlfbGlmZV9leHBlY3RhbmN5Il0gPiAwLjcpKQ==\").decode())\n\ntry:\n    # run user code\n    __backend_agg_user_code_fn()\n\n    #reset display function\n    display = __backend_agg_display_orig\n\n    if len(__backend_agg_dfs) > 0:\n        # create a temp view\n        if type(__backend_agg_dfs[0]).__module__ == \"databricks.koalas.frame\":\n            # koalas dataframe\n            __backend_agg_dfs[0].to_spark().createOrReplaceTempView(\"DatabricksViewc6da9dc\")\n        elif type(__backend_agg_dfs[0]).__module__ == \"pandas.core.frame\" or isinstance(__backend_agg_dfs[0], list):\n            # pandas dataframe\n            spark.createDataFrame(__backend_agg_dfs[0]).createOrReplaceTempView(\"DatabricksViewc6da9dc\")\n        else:\n            __backend_agg_dfs[0].createOrReplaceTempView(\"DatabricksViewc6da9dc\")\n        #run backend agg\n        display(spark.sql(\"\"\"WITH q AS (select * from DatabricksViewc6da9dc) SELECT `country_name`,SUM(`healthy_life_expectancy`) `column_f88b59a0128` FROM q GROUP BY `country_name`\"\"\"))\n    else:\n        displayHTML(\"dataframe no longer exists. If you're using dataframe.display(), use display(dataframe) instead.\")\n\n\nfinally:\n    spark.sql(\"drop view if exists DatabricksViewc6da9dc\")\n    display = __backend_agg_display_orig\n    del __backend_agg_display_new\n    del __backend_agg_display_orig\n    del __backend_agg_dfs\n    del __backend_agg_user_code_fn\n\n",
              "commandTitle": "Visualization 1",
              "commandType": "auto",
              "commandVersion": 0,
              "commentThread": [],
              "commentsVisible": false,
              "contentSha256Hex": null,
              "customPlotOptions": {
                "redashChart": [
                  {
                    "key": "type",
                    "value": "CHART"
                  },
                  {
                    "key": "options",
                    "value": {
                      "alignYAxesAtZero": true,
                      "coefficient": 1,
                      "columnConfigurationMap": {
                        "x": {
                          "column": "country_name",
                          "id": "column_f88b59a0228"
                        },
                        "y": [
                          {
                            "column": "healthy_life_expectancy",
                            "id": "column_f88b59a0128",
                            "transform": "SUM"
                          }
                        ]
                      },
                      "dateTimeFormat": "DD/MM/YYYY HH:mm",
                      "direction": {
                        "type": "counterclockwise"
                      },
                      "error_y": {
                        "type": "data",
                        "visible": true
                      },
                      "globalSeriesType": "pie",
                      "isAggregationOn": true,
                      "legend": {
                        "traceorder": "normal"
                      },
                      "missingValuesAsZero": true,
                      "numberFormat": "0,0.[00000]",
                      "percentFormat": "0[.]00%",
                      "series": {
                        "error_y": {
                          "type": "data",
                          "visible": true
                        },
                        "stacking": null
                      },
                      "seriesOptions": {
                        "column_f88b59a0128": {
                          "type": "pie",
                          "yAxis": 0
                        }
                      },
                      "showDataLabels": true,
                      "sizemode": "diameter",
                      "sortX": true,
                      "sortY": true,
                      "swappedAxes": false,
                      "textFormat": "",
                      "useAggregationsUi": true,
                      "valuesOptions": {},
                      "version": 2,
                      "xAxis": {
                        "labels": {
                          "enabled": true
                        },
                        "type": "-"
                      },
                      "yAxis": [
                        {
                          "type": "-"
                        },
                        {
                          "opposite": true,
                          "type": "-"
                        }
                      ]
                    }
                  }
                ]
              },
              "datasetPreviewNameToCmdIdMap": {},
              "diffDeletes": [],
              "diffInserts": [],
              "displayType": "redashChart",
              "error": null,
              "errorDetails": null,
              "errorSummary": null,
              "errorTraceType": null,
              "finishTime": 0,
              "globalVars": {},
              "guid": "",
              "height": "auto",
              "hideCommandCode": false,
              "hideCommandResult": false,
              "iPythonMetadata": null,
              "inputWidgets": {},
              "isLockedInExamMode": false,
              "latestUser": "a user",
              "latestUserId": null,
              "listResultMetadata": null,
              "metadata": {
                "byteLimit": 2048000,
                "rowLimit": 10000
              },
              "nuid": "53b2d1ca-bd17-41c8-9a9d-e855f7facd17",
              "origId": 0,
              "parentHierarchy": [],
              "pivotAggregation": null,
              "pivotColumns": null,
              "position": 8.5,
              "resultDbfsErrorMessage": null,
              "resultDbfsStatus": "INLINED_IN_TREE",
              "results": null,
              "showCommandTitle": false,
              "startTime": 0,
              "state": "finished",
              "streamStates": {},
              "subcommandOptions": {
                "queryPlan": {
                  "groups": [
                    {
                      "column": "country_name",
                      "type": "column"
                    }
                  ],
                  "selects": [
                    {
                      "column": "country_name",
                      "type": "column"
                    },
                    {
                      "alias": "column_f88b59a0128",
                      "args": [
                        {
                          "column": "healthy_life_expectancy",
                          "type": "column"
                        }
                      ],
                      "function": "SUM",
                      "type": "function"
                    }
                  ]
                }
              },
              "submitTime": 0,
              "subtype": "tableResultSubCmd.visualization",
              "tableResultIndex": 0,
              "tableResultSettingsMap": {},
              "useConsistentColors": false,
              "version": "CommandV1",
              "width": "auto",
              "workflows": [],
              "xColumns": null,
              "yColumns": null
            }
          }
        },
        {
          "output_type": "display_data",
          "data": {
            "text/plain": [
              "Databricks visualization. Run in Databricks to view."
            ]
          },
          "metadata": {
            "application/vnd.databricks.v1.subcommand+json": {
              "baseErrorDetails": null,
              "bindings": {},
              "collapsed": false,
              "command": "%python\n__backend_agg_display_orig = display\n__backend_agg_dfs = []\ndef __backend_agg_display_new(df):\n    __backend_agg_df_modules = [\"pandas.core.frame\", \"databricks.koalas.frame\", \"pyspark.sql.dataframe\", \"pyspark.pandas.frame\", \"pyspark.sql.connect.dataframe\"]\n    if (type(df).__module__ in __backend_agg_df_modules and type(df).__name__ == 'DataFrame') or isinstance(df, list):\n        __backend_agg_dfs.append(df)\n\ndisplay = __backend_agg_display_new\n\ndef __backend_agg_user_code_fn():\n    import base64\n    exec(base64.standard_b64decode(\"ZGlzcGxheShkZi5maWx0ZXIoZGZbImhlYWx0aHlfbGlmZV9leHBlY3RhbmN5Il0gPiAwLjcpKQ==\").decode())\n\ntry:\n    # run user code\n    __backend_agg_user_code_fn()\n\n    #reset display function\n    display = __backend_agg_display_orig\n\n    if len(__backend_agg_dfs) > 0:\n        # create a temp view\n        if type(__backend_agg_dfs[0]).__module__ == \"databricks.koalas.frame\":\n            # koalas dataframe\n            __backend_agg_dfs[0].to_spark().createOrReplaceTempView(\"DatabricksView2b479a2\")\n        elif type(__backend_agg_dfs[0]).__module__ == \"pandas.core.frame\" or isinstance(__backend_agg_dfs[0], list):\n            # pandas dataframe\n            spark.createDataFrame(__backend_agg_dfs[0]).createOrReplaceTempView(\"DatabricksView2b479a2\")\n        else:\n            __backend_agg_dfs[0].createOrReplaceTempView(\"DatabricksView2b479a2\")\n        #run backend agg\n        display(spark.sql(\"\"\"WITH q AS (select * from DatabricksView2b479a2) SELECT `perceptions_corruption`,`healthy_life_expectancy`,`country_name`,`happiness_score` FROM q\"\"\"))\n    else:\n        displayHTML(\"dataframe no longer exists. If you're using dataframe.display(), use display(dataframe) instead.\")\n\n\nfinally:\n    spark.sql(\"drop view if exists DatabricksView2b479a2\")\n    display = __backend_agg_display_orig\n    del __backend_agg_display_new\n    del __backend_agg_display_orig\n    del __backend_agg_dfs\n    del __backend_agg_user_code_fn\n\n",
              "commandTitle": "Visualization 2",
              "commandType": "auto",
              "commandVersion": 0,
              "commentThread": [],
              "commentsVisible": false,
              "contentSha256Hex": null,
              "customPlotOptions": {
                "redashChart": [
                  {
                    "key": "type",
                    "value": "CHART"
                  },
                  {
                    "key": "options",
                    "value": {
                      "alignYAxesAtZero": true,
                      "coefficient": 1,
                      "columnConfigurationMap": {
                        "series": {
                          "column": "country_name",
                          "id": "column_f88b59a0229"
                        },
                        "size": {
                          "column": "happiness_score",
                          "id": "column_f88b59a0144"
                        },
                        "x": {
                          "column": "perceptions_corruption",
                          "id": "column_f88b59a0145"
                        },
                        "y": [
                          {
                            "column": "healthy_life_expectancy",
                            "id": "column_f88b59a0142"
                          }
                        ]
                      },
                      "dateTimeFormat": "DD/MM/YYYY HH:mm",
                      "direction": {
                        "type": "counterclockwise"
                      },
                      "error_y": {
                        "type": "data",
                        "visible": true
                      },
                      "globalSeriesType": "bubble",
                      "legend": {
                        "traceorder": "normal"
                      },
                      "missingValuesAsZero": true,
                      "numberFormat": "0,0.[00000]",
                      "percentFormat": "0[.]00%",
                      "series": {
                        "error_y": {
                          "type": "data",
                          "visible": true
                        },
                        "stacking": null
                      },
                      "seriesOptions": {
                        "Country name": {
                          "type": "bubble",
                          "yAxis": 0
                        },
                        "happiness_rank": {
                          "type": "bubble",
                          "yAxis": 0
                        },
                        "healthy_life_expectancy": {
                          "type": "bubble",
                          "yAxis": 0
                        }
                      },
                      "showDataLabels": false,
                      "sizemode": "diameter",
                      "sortX": true,
                      "sortY": true,
                      "swappedAxes": false,
                      "textFormat": "",
                      "useAggregationsUi": true,
                      "valuesOptions": {},
                      "version": 2,
                      "xAxis": {
                        "labels": {
                          "enabled": true
                        },
                        "type": "-"
                      },
                      "yAxis": [
                        {
                          "type": "-"
                        },
                        {
                          "opposite": true,
                          "type": "-"
                        }
                      ]
                    }
                  }
                ]
              },
              "datasetPreviewNameToCmdIdMap": {},
              "diffDeletes": [],
              "diffInserts": [],
              "displayType": "redashChart",
              "error": null,
              "errorDetails": null,
              "errorSummary": null,
              "errorTraceType": null,
              "finishTime": 0,
              "globalVars": {},
              "guid": "",
              "height": "auto",
              "hideCommandCode": false,
              "hideCommandResult": false,
              "iPythonMetadata": null,
              "inputWidgets": {},
              "isLockedInExamMode": false,
              "latestUser": "a user",
              "latestUserId": null,
              "listResultMetadata": null,
              "metadata": {
                "byteLimit": 2048000,
                "rowLimit": 10000
              },
              "nuid": "fe8a3610-c6a7-4db2-9d28-fb5b2b2eb059",
              "origId": 0,
              "parentHierarchy": [],
              "pivotAggregation": null,
              "pivotColumns": null,
              "position": 9.5,
              "resultDbfsErrorMessage": null,
              "resultDbfsStatus": "INLINED_IN_TREE",
              "results": null,
              "showCommandTitle": false,
              "startTime": 0,
              "state": "finished",
              "streamStates": {},
              "subcommandOptions": {
                "queryPlan": {
                  "selects": [
                    {
                      "column": "perceptions_corruption",
                      "type": "column"
                    },
                    {
                      "column": "healthy_life_expectancy",
                      "type": "column"
                    },
                    {
                      "column": "country_name",
                      "type": "column"
                    },
                    {
                      "column": "happiness_score",
                      "type": "column"
                    }
                  ]
                }
              },
              "submitTime": 0,
              "subtype": "tableResultSubCmd.visualization",
              "tableResultIndex": 0,
              "tableResultSettingsMap": {},
              "useConsistentColors": false,
              "version": "CommandV1",
              "width": "auto",
              "workflows": [],
              "xColumns": null,
              "yColumns": null
            }
          }
        }
      ],
      "source": [
        "display(df.filter(df[\"healthy_life_expectancy\"] > 0.7))"
      ]
    },
    {
      "cell_type": "code",
      "execution_count": null,
      "metadata": {
        "application/vnd.databricks.v1+cell": {
          "cellMetadata": {
            "byteLimit": 2048000,
            "rowLimit": 10000
          },
          "inputWidgets": {},
          "nuid": "4e1087db-ff36-4d6a-bca1-7f8558033264",
          "showTitle": false,
          "tableResultSettingsMap": {},
          "title": ""
        },
        "id": "5SG6Kz6ocHm8"
      },
      "outputs": [],
      "source": [
        "#Construimos una tabla temporal para correr comandos de SQL\n",
        "#La tabla solo estará activa para esta sesión\n",
        "df.createOrReplaceTempView(\"happiness\")"
      ]
    },
    {
      "cell_type": "code",
      "execution_count": null,
      "metadata": {
        "application/vnd.databricks.v1+cell": {
          "cellMetadata": {
            "byteLimit": 2048000,
            "rowLimit": 10000
          },
          "inputWidgets": {},
          "nuid": "5e1cf44a-6a43-4e31-9442-99e60416d1ab",
          "showTitle": false,
          "tableResultSettingsMap": {},
          "title": ""
        },
        "id": "Dm2PhXmEcHm8",
        "outputId": "7f06ff14-7003-4c17-fb42-5c037a8ae8e8"
      },
      "outputs": [
        {
          "output_type": "stream",
          "name": "stdout",
          "text": [
            "+--------------+--------------+---------------+------------+------------+----------------------+--------------+-----------------------+----------------------------+----------+----------------------+\n|  country_name|happiness_rank|happiness_score|upperwhisker|lowerwhisker|economy_GDP_per_capita|social_support|healthy_life_expectancy|freedom_to_make_life_choices|generosity|perceptions_corruption|\n+--------------+--------------+---------------+------------+------------+----------------------+--------------+-----------------------+----------------------------+----------+----------------------+\n|       Finland|             1|          7.741|       7.815|       7.667|                 1.844|         1.572|                  0.695|                       0.859|     0.142|                 0.546|\n|       Denmark|             2|          7.583|       7.665|         7.5|                 1.908|          1.52|                  0.699|                       0.823|     0.204|                 0.548|\n|       Iceland|             3|          7.525|       7.618|       7.433|                 1.881|         1.617|                  0.718|                       0.819|     0.258|                 0.182|\n|        Sweden|             4|          7.344|       7.422|       7.267|                 1.878|         1.501|                  0.724|                       0.838|     0.221|                 0.524|\n|        Israel|             5|          7.341|       7.405|       7.277|                 1.803|         1.513|                   0.74|                       0.641|     0.153|                 0.193|\n|   Netherlands|             6|          7.319|       7.383|       7.256|                 1.901|         1.462|                  0.706|                       0.725|     0.247|                 0.372|\n|        Norway|             7|          7.302|       7.389|       7.215|                 1.952|         1.517|                  0.704|                       0.835|     0.224|                 0.484|\n|    Luxembourg|             8|          7.122|       7.213|       7.031|                 2.141|         1.355|                  0.708|                       0.801|     0.146|                 0.432|\n|   Switzerland|             9|           7.06|       7.147|       6.973|                  1.97|         1.425|                  0.747|                       0.759|     0.173|                 0.498|\n|     Australia|            10|          7.057|       7.141|       6.973|                 1.854|         1.461|                  0.692|                       0.756|     0.225|                 0.323|\n|   New Zealand|            11|          7.029|       7.105|       6.954|                  1.81|         1.527|                  0.673|                       0.746|     0.226|                  0.48|\n|    Costa Rica|            12|          6.955|       7.051|        6.86|                 1.561|         1.373|                  0.661|                       0.797|     0.109|                 0.123|\n|        Kuwait|            13|          6.951|        7.06|       6.843|                 1.845|         1.364|                  0.661|                       0.827|       0.2|                 0.172|\n|       Austria|            14|          6.905|       6.986|       6.824|                 1.885|         1.336|                  0.696|                       0.703|     0.214|                 0.305|\n|        Canada|            15|            6.9|       6.984|       6.815|                  1.84|         1.459|                  0.701|                        0.73|      0.23|                 0.368|\n|       Belgium|            16|          6.894|       6.961|       6.827|                 1.868|          1.44|                   0.69|                       0.729|      0.17|                 0.311|\n|       Ireland|            17|          6.838|       6.927|       6.749|                 2.129|          1.39|                    0.7|                       0.758|     0.205|                 0.418|\n|       Czechia|            18|          6.822|       6.903|       6.741|                 1.783|         1.511|                  0.638|                       0.787|     0.177|                 0.068|\n|     Lithuania|            19|          6.818|       6.896|       6.739|                 1.766|         1.454|                  0.598|                       0.533|     0.044|                 0.116|\n|United Kingdom|            20|          6.749|       6.833|       6.665|                 1.822|         1.326|                  0.672|                       0.713|     0.267|                 0.351|\n+--------------+--------------+---------------+------------+------------+----------------------+--------------+-----------------------+----------------------------+----------+----------------------+\nonly showing top 20 rows\n"
          ]
        }
      ],
      "source": [
        "df2 = spark.sql(\"SELECT * from happiness\")\n",
        "df2.show()"
      ]
    },
    {
      "cell_type": "code",
      "execution_count": null,
      "metadata": {
        "application/vnd.databricks.v1+cell": {
          "cellMetadata": {
            "byteLimit": 2048000,
            "rowLimit": 10000
          },
          "inputWidgets": {},
          "nuid": "0581a1b7-ba93-40a9-937c-ffc31a2bb798",
          "showTitle": false,
          "tableResultSettingsMap": {},
          "title": ""
        },
        "id": "mHT3TBktcHm9",
        "outputId": "c3446ecb-44c5-4423-bf2f-e5a210d2cbc6"
      },
      "outputs": [
        {
          "output_type": "display_data",
          "data": {
            "text/html": [
              "<style scoped>\n",
              "  .table-result-container {\n",
              "    max-height: 300px;\n",
              "    overflow: auto;\n",
              "  }\n",
              "  table, th, td {\n",
              "    border: 1px solid black;\n",
              "    border-collapse: collapse;\n",
              "  }\n",
              "  th, td {\n",
              "    padding: 5px;\n",
              "  }\n",
              "  th {\n",
              "    text-align: left;\n",
              "  }\n",
              "</style><div class='table-result-container'><table class='table-result'><thead style='background-color: white'><tr><th>country_name</th><th>happiness_rank</th><th>freedom_to_make_life_choices</th></tr></thead><tbody><tr><td>Finland</td><td>1</td><td>0.859</td></tr><tr><td>Denmark</td><td>2</td><td>0.823</td></tr><tr><td>Iceland</td><td>3</td><td>0.819</td></tr><tr><td>Sweden</td><td>4</td><td>0.838</td></tr><tr><td>Netherlands</td><td>6</td><td>0.725</td></tr><tr><td>Norway</td><td>7</td><td>0.835</td></tr><tr><td>Luxembourg</td><td>8</td><td>0.801</td></tr><tr><td>Switzerland</td><td>9</td><td>0.759</td></tr><tr><td>Australia</td><td>10</td><td>0.756</td></tr><tr><td>New Zealand</td><td>11</td><td>0.746</td></tr><tr><td>Costa Rica</td><td>12</td><td>0.797</td></tr><tr><td>Kuwait</td><td>13</td><td>0.827</td></tr><tr><td>Austria</td><td>14</td><td>0.703</td></tr><tr><td>Canada</td><td>15</td><td>0.73</td></tr><tr><td>Belgium</td><td>16</td><td>0.729</td></tr><tr><td>Ireland</td><td>17</td><td>0.758</td></tr><tr><td>Czechia</td><td>18</td><td>0.787</td></tr><tr><td>United Kingdom</td><td>20</td><td>0.713</td></tr><tr><td>Slovenia</td><td>21</td><td>0.789</td></tr><tr><td>United Arab Emirates</td><td>22</td><td>0.815</td></tr><tr><td>Mexico</td><td>25</td><td>0.722</td></tr><tr><td>Uruguay</td><td>26</td><td>0.775</td></tr><tr><td>Saudi Arabia</td><td>28</td><td>0.787</td></tr><tr><td>Kosovo</td><td>29</td><td>0.739</td></tr><tr><td>Singapore</td><td>30</td><td>0.743</td></tr><tr><td>Romania</td><td>32</td><td>0.717</td></tr><tr><td>El Salvador</td><td>33</td><td>0.816</td></tr><tr><td>Estonia</td><td>34</td><td>0.805</td></tr><tr><td>Panama</td><td>39</td><td>0.72</td></tr><tr><td>Malta</td><td>40</td><td>0.727</td></tr><tr><td>Guatemala</td><td>42</td><td>0.735</td></tr><tr><td>Nicaragua</td><td>43</td><td>0.793</td></tr><tr><td>Uzbekistan</td><td>47</td><td>0.835</td></tr><tr><td>Kazakhstan</td><td>49</td><td>0.733</td></tr><tr><td>Philippines</td><td>53</td><td>0.826</td></tr><tr><td>Vietnam</td><td>54</td><td>0.843</td></tr><tr><td>Portugal</td><td>55</td><td>0.757</td></tr><tr><td>Paraguay</td><td>57</td><td>0.788</td></tr><tr><td>Thailand</td><td>58</td><td>0.756</td></tr><tr><td>Malaysia</td><td>59</td><td>0.829</td></tr><tr><td>China</td><td>60</td><td>0.704</td></tr><tr><td>Honduras</td><td>61</td><td>0.72</td></tr><tr><td>Dominican Republic</td><td>69</td><td>0.73</td></tr><tr><td>Bolivia</td><td>73</td><td>0.719</td></tr><tr><td>Kyrgyzstan</td><td>75</td><td>0.834</td></tr><tr><td>Indonesia</td><td>80</td><td>0.779</td></tr><tr><td>Mozambique</td><td>90</td><td>0.728</td></tr><tr><td>Laos</td><td>94</td><td>0.796</td></tr><tr><td>Cambodia</td><td>119</td><td>0.863</td></tr><tr><td>India</td><td>126</td><td>0.767</td></tr><tr><td>Bangladesh</td><td>129</td><td>0.775</td></tr><tr><td>Tanzania</td><td>131</td><td>0.709</td></tr><tr><td>Zambia</td><td>134</td><td>0.727</td></tr></tbody></table></div>"
            ]
          },
          "metadata": {
            "application/vnd.databricks.v1+output": {
              "addedWidgets": {},
              "aggData": [],
              "aggError": "",
              "aggOverflow": false,
              "aggSchema": [],
              "aggSeriesLimitReached": false,
              "aggType": "",
              "arguments": {},
              "columnCustomDisplayInfos": {},
              "data": [
                [
                  "Finland",
                  1,
                  0.859
                ],
                [
                  "Denmark",
                  2,
                  0.823
                ],
                [
                  "Iceland",
                  3,
                  0.819
                ],
                [
                  "Sweden",
                  4,
                  0.838
                ],
                [
                  "Netherlands",
                  6,
                  0.725
                ],
                [
                  "Norway",
                  7,
                  0.835
                ],
                [
                  "Luxembourg",
                  8,
                  0.801
                ],
                [
                  "Switzerland",
                  9,
                  0.759
                ],
                [
                  "Australia",
                  10,
                  0.756
                ],
                [
                  "New Zealand",
                  11,
                  0.746
                ],
                [
                  "Costa Rica",
                  12,
                  0.797
                ],
                [
                  "Kuwait",
                  13,
                  0.827
                ],
                [
                  "Austria",
                  14,
                  0.703
                ],
                [
                  "Canada",
                  15,
                  0.73
                ],
                [
                  "Belgium",
                  16,
                  0.729
                ],
                [
                  "Ireland",
                  17,
                  0.758
                ],
                [
                  "Czechia",
                  18,
                  0.787
                ],
                [
                  "United Kingdom",
                  20,
                  0.713
                ],
                [
                  "Slovenia",
                  21,
                  0.789
                ],
                [
                  "United Arab Emirates",
                  22,
                  0.815
                ],
                [
                  "Mexico",
                  25,
                  0.722
                ],
                [
                  "Uruguay",
                  26,
                  0.775
                ],
                [
                  "Saudi Arabia",
                  28,
                  0.787
                ],
                [
                  "Kosovo",
                  29,
                  0.739
                ],
                [
                  "Singapore",
                  30,
                  0.743
                ],
                [
                  "Romania",
                  32,
                  0.717
                ],
                [
                  "El Salvador",
                  33,
                  0.816
                ],
                [
                  "Estonia",
                  34,
                  0.805
                ],
                [
                  "Panama",
                  39,
                  0.72
                ],
                [
                  "Malta",
                  40,
                  0.727
                ],
                [
                  "Guatemala",
                  42,
                  0.735
                ],
                [
                  "Nicaragua",
                  43,
                  0.793
                ],
                [
                  "Uzbekistan",
                  47,
                  0.835
                ],
                [
                  "Kazakhstan",
                  49,
                  0.733
                ],
                [
                  "Philippines",
                  53,
                  0.826
                ],
                [
                  "Vietnam",
                  54,
                  0.843
                ],
                [
                  "Portugal",
                  55,
                  0.757
                ],
                [
                  "Paraguay",
                  57,
                  0.788
                ],
                [
                  "Thailand",
                  58,
                  0.756
                ],
                [
                  "Malaysia",
                  59,
                  0.829
                ],
                [
                  "China",
                  60,
                  0.704
                ],
                [
                  "Honduras",
                  61,
                  0.72
                ],
                [
                  "Dominican Republic",
                  69,
                  0.73
                ],
                [
                  "Bolivia",
                  73,
                  0.719
                ],
                [
                  "Kyrgyzstan",
                  75,
                  0.834
                ],
                [
                  "Indonesia",
                  80,
                  0.779
                ],
                [
                  "Mozambique",
                  90,
                  0.728
                ],
                [
                  "Laos",
                  94,
                  0.796
                ],
                [
                  "Cambodia",
                  119,
                  0.863
                ],
                [
                  "India",
                  126,
                  0.767
                ],
                [
                  "Bangladesh",
                  129,
                  0.775
                ],
                [
                  "Tanzania",
                  131,
                  0.709
                ],
                [
                  "Zambia",
                  134,
                  0.727
                ]
              ],
              "datasetInfos": [],
              "dbfsResultPath": null,
              "isJsonSchema": true,
              "metadata": {},
              "overflow": false,
              "plotOptions": {
                "customPlotOptions": {},
                "displayType": "table",
                "pivotAggregation": null,
                "pivotColumns": null,
                "xColumns": null,
                "yColumns": null
              },
              "removedWidgets": [],
              "schema": [
                {
                  "metadata": "{}",
                  "name": "country_name",
                  "type": "\"string\""
                },
                {
                  "metadata": "{}",
                  "name": "happiness_rank",
                  "type": "\"integer\""
                },
                {
                  "metadata": "{}",
                  "name": "freedom_to_make_life_choices",
                  "type": "\"double\""
                }
              ],
              "type": "table"
            }
          }
        },
        {
          "output_type": "display_data",
          "data": {
            "text/plain": [
              "Databricks visualization. Run in Databricks to view."
            ]
          },
          "metadata": {
            "application/vnd.databricks.v1.subcommand+json": {
              "baseErrorDetails": null,
              "bindings": {},
              "collapsed": false,
              "command": "#Misma consulta, ahora usando la sintáxis de SQL\nhappy_stats = spark.sql(\"\"\"\n                            SELECT country_name, happiness_rank, freedom_to_make_life_choices\n                            FROM happiness\n                            WHERE freedom_to_make_life_choices > 0.7\n                            \"\"\")\ndisplay(happy_stats)\n     ",
              "commandTitle": "Visualization 1",
              "commandType": "auto",
              "commandVersion": 0,
              "commentThread": [],
              "commentsVisible": false,
              "contentSha256Hex": null,
              "customPlotOptions": {
                "redashChart": [
                  {
                    "key": "type",
                    "value": "CHOROPLETH"
                  },
                  {
                    "key": "options",
                    "value": {
                      "clusteringMode": "e",
                      "colors": {
                        "background": "#ffffff",
                        "borders": "#ffffff",
                        "max": "#002FB4",
                        "min": "#DDDDDD",
                        "noValue": "#FFFFFF"
                      },
                      "keyColumn": "country_name",
                      "legend": {
                        "alignText": "right",
                        "position": "bottom-left",
                        "visible": true
                      },
                      "mapType": "countries",
                      "noValuePlaceholder": "N/A",
                      "popup": {
                        "enabled": true,
                        "template": "Region: <b>{{ @@name }}</b>\n<br>\nValue: <b>{{ @@value }}</b>"
                      },
                      "steps": 5,
                      "targetField": "name_long",
                      "tooltip": {
                        "enabled": true,
                        "template": "<b>{{ @@name }}</b>: {{ @@value }}"
                      },
                      "valueColumn": "happiness_rank",
                      "valueFormat": "0,0.00"
                    }
                  }
                ]
              },
              "datasetPreviewNameToCmdIdMap": {},
              "diffDeletes": [],
              "diffInserts": [],
              "displayType": "redashChart",
              "error": null,
              "errorDetails": null,
              "errorSummary": null,
              "errorTraceType": null,
              "finishTime": 0,
              "globalVars": {},
              "guid": "",
              "height": "auto",
              "hideCommandCode": false,
              "hideCommandResult": false,
              "iPythonMetadata": null,
              "inputWidgets": {},
              "isLockedInExamMode": false,
              "latestUser": "a user",
              "latestUserId": null,
              "listResultMetadata": null,
              "metadata": {
                "byteLimit": 2048000,
                "rowLimit": 10000
              },
              "nuid": "60a87de4-80bd-44c8-8c6c-f12a451d3fac",
              "origId": 0,
              "parentHierarchy": [],
              "pivotAggregation": null,
              "pivotColumns": null,
              "position": 11,
              "resultDbfsErrorMessage": null,
              "resultDbfsStatus": "INLINED_IN_TREE",
              "results": null,
              "showCommandTitle": false,
              "startTime": 0,
              "state": "finished",
              "streamStates": {},
              "subcommandOptions": {},
              "submitTime": 0,
              "subtype": "tableResultSubCmd.visualization",
              "tableResultIndex": 0,
              "tableResultSettingsMap": {},
              "useConsistentColors": false,
              "version": "CommandV1",
              "width": "auto",
              "workflows": [],
              "xColumns": null,
              "yColumns": null
            }
          }
        }
      ],
      "source": [
        "#Misma consulta, ahora usando la sintáxis de SQL\n",
        "happy_stats = spark.sql(\"\"\"\n",
        "                            SELECT country_name, happiness_rank, freedom_to_make_life_choices\n",
        "                            FROM happiness\n",
        "                            WHERE freedom_to_make_life_choices > 0.7\n",
        "                            \"\"\")\n",
        "display(happy_stats)\n",
        ""
      ]
    }
  ],
  "metadata": {
    "application/vnd.databricks.v1+notebook": {
      "computePreferences": null,
      "dashboards": [],
      "environmentMetadata": {
        "base_environment": "",
        "environment_version": "2"
      },
      "inputWidgetPreferences": null,
      "language": "python",
      "notebookMetadata": {
        "pythonIndentUnit": 4
      },
      "notebookName": "Notebook_felicidad",
      "widgets": {}
    },
    "language_info": {
      "name": "python"
    },
    "colab": {
      "provenance": [],
      "include_colab_link": true
    }
  },
  "nbformat": 4,
  "nbformat_minor": 0
}